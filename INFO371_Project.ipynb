{
 "cells": [
  {
   "cell_type": "markdown",
   "source": [
    "# INFO-371 Final Project\n",
    "\n",
    "This is our final project which attempts to predict which events in a participant's accelerometer data signals\n",
    "the beginning and end of sleep. Over the course of many nights, accelerometer data is collected from a worn\n",
    "device on the participant's wrist at every moment of the day. Sleep scientists then annotate this data with\n",
    "events labeled \"onset\", signaling the participant has begun sleeping, or \"wakeup\", signaling the participant\n",
    "has just awoken.\n",
    "\n",
    "By analysing this time series data, in this notebook we create a prediction model using data mining and machine\n",
    "learning."
   ],
   "metadata": {
    "collapsed": false
   }
  },
  {
   "cell_type": "code",
   "execution_count": null,
   "outputs": [],
   "source": [
    "import gc\n",
    "gc.collect()"
   ],
   "metadata": {
    "collapsed": false
   }
  },
  {
   "cell_type": "code",
   "execution_count": 1,
   "id": "317748af",
   "metadata": {},
   "outputs": [],
   "source": [
    "#Imports\n",
    "import os\n",
    "import pandas as pd\n",
    "import pathlib\n",
    "import pyarrow as pa"
   ]
  },
  {
   "cell_type": "code",
   "execution_count": 2,
   "outputs": [],
   "source": [
    "# Load the data from our local directory\n",
    "input_data_dir = os.path.join(os.path.realpath(pathlib.Path().cwd()), 'input_data')"
   ],
   "metadata": {
    "collapsed": false
   }
  },
  {
   "cell_type": "code",
   "execution_count": 3,
   "outputs": [
    {
     "data": {
      "text/plain": "         series_id  night   event    step\n0     038441c925bb      1   onset    4992\n1     038441c925bb      1  wakeup   10932\n2     038441c925bb      2   onset   20244\n3     038441c925bb      2  wakeup   27492\n4     038441c925bb      3   onset   39996\n...            ...    ...     ...     ...\n9580  fe90110788d2     32  wakeup  547152\n9581  fe90110788d2     33   onset  556560\n9582  fe90110788d2     33  wakeup  560604\n9583  fe90110788d2     34   onset  574620\n9584  fe90110788d2     34  wakeup  581604\n\n[9580 rows x 4 columns]",
      "text/html": "<div>\n<style scoped>\n    .dataframe tbody tr th:only-of-type {\n        vertical-align: middle;\n    }\n\n    .dataframe tbody tr th {\n        vertical-align: top;\n    }\n\n    .dataframe thead th {\n        text-align: right;\n    }\n</style>\n<table border=\"1\" class=\"dataframe\">\n  <thead>\n    <tr style=\"text-align: right;\">\n      <th></th>\n      <th>series_id</th>\n      <th>night</th>\n      <th>event</th>\n      <th>step</th>\n    </tr>\n  </thead>\n  <tbody>\n    <tr>\n      <th>0</th>\n      <td>038441c925bb</td>\n      <td>1</td>\n      <td>onset</td>\n      <td>4992</td>\n    </tr>\n    <tr>\n      <th>1</th>\n      <td>038441c925bb</td>\n      <td>1</td>\n      <td>wakeup</td>\n      <td>10932</td>\n    </tr>\n    <tr>\n      <th>2</th>\n      <td>038441c925bb</td>\n      <td>2</td>\n      <td>onset</td>\n      <td>20244</td>\n    </tr>\n    <tr>\n      <th>3</th>\n      <td>038441c925bb</td>\n      <td>2</td>\n      <td>wakeup</td>\n      <td>27492</td>\n    </tr>\n    <tr>\n      <th>4</th>\n      <td>038441c925bb</td>\n      <td>3</td>\n      <td>onset</td>\n      <td>39996</td>\n    </tr>\n    <tr>\n      <th>...</th>\n      <td>...</td>\n      <td>...</td>\n      <td>...</td>\n      <td>...</td>\n    </tr>\n    <tr>\n      <th>9580</th>\n      <td>fe90110788d2</td>\n      <td>32</td>\n      <td>wakeup</td>\n      <td>547152</td>\n    </tr>\n    <tr>\n      <th>9581</th>\n      <td>fe90110788d2</td>\n      <td>33</td>\n      <td>onset</td>\n      <td>556560</td>\n    </tr>\n    <tr>\n      <th>9582</th>\n      <td>fe90110788d2</td>\n      <td>33</td>\n      <td>wakeup</td>\n      <td>560604</td>\n    </tr>\n    <tr>\n      <th>9583</th>\n      <td>fe90110788d2</td>\n      <td>34</td>\n      <td>onset</td>\n      <td>574620</td>\n    </tr>\n    <tr>\n      <th>9584</th>\n      <td>fe90110788d2</td>\n      <td>34</td>\n      <td>wakeup</td>\n      <td>581604</td>\n    </tr>\n  </tbody>\n</table>\n<p>9580 rows × 4 columns</p>\n</div>"
     },
     "execution_count": 3,
     "metadata": {},
     "output_type": "execute_result"
    }
   ],
   "source": [
    "# Transform the train_events dataset types\n",
    "train_events = pd.read_csv(\n",
    "    os.path.join(input_data_dir, 'train_events.csv'),\n",
    "    usecols=['series_id', 'event', 'step', 'night']\n",
    ")\n",
    "train_events.dropna(inplace=True)\n",
    "train_events.reset_index(inplace = True, drop=True)\n",
    "train_events['step'] = train_events['step'].astype(int)\n",
    "# train_events['event'] = train_events['event'].astype('category')\n",
    "\n",
    "rows_to_delete = []\n",
    "\n",
    "for index, row in train_events.iterrows():\n",
    "    delete = True\n",
    "    if index > 0:\n",
    "        previous_row = train_events.iloc[index - 1]\n",
    "        if previous_row['night'] == row['night'] and previous_row['event'] != row['event']:\n",
    "            delete = False\n",
    "\n",
    "    if index < len(train_events) - 1:\n",
    "        next_row = train_events.iloc[index + 1]\n",
    "        if next_row['night'] == row['night'] and next_row['event'] != row['event']:\n",
    "            delete = False\n",
    "    if delete:\n",
    "        rows_to_delete.append(index)\n",
    "\n",
    "# Drop rows by their indices\n",
    "train_events.drop(rows_to_delete, inplace=True)\n",
    "train_events.sort_values(by=['series_id', 'night'])"
   ],
   "metadata": {
    "collapsed": false
   }
  },
  {
   "cell_type": "code",
   "execution_count": 4,
   "outputs": [
    {
     "name": "stdout",
     "output_type": "stream",
     "text": [
      "[310, 957, 2668, 9099, 9352]\n"
     ]
    }
   ],
   "source": [
    "print(rows_to_delete)"
   ],
   "metadata": {
    "collapsed": false
   }
  },
  {
   "cell_type": "code",
   "execution_count": 5,
   "outputs": [
    {
     "ename": "ArrowMemoryError",
     "evalue": "realloc of size 6391296 failed",
     "output_type": "error",
     "traceback": [
      "\u001B[1;31m---------------------------------------------------------------------------\u001B[0m",
      "\u001B[1;31mArrowMemoryError\u001B[0m                          Traceback (most recent call last)",
      "Cell \u001B[1;32mIn[5], line 2\u001B[0m\n\u001B[0;32m      1\u001B[0m \u001B[38;5;66;03m# Load the series data\u001B[39;00m\n\u001B[1;32m----> 2\u001B[0m train_series \u001B[38;5;241m=\u001B[39m \u001B[43mpd\u001B[49m\u001B[38;5;241;43m.\u001B[39;49m\u001B[43mread_parquet\u001B[49m\u001B[43m(\u001B[49m\n\u001B[0;32m      3\u001B[0m \u001B[43m    \u001B[49m\u001B[43mos\u001B[49m\u001B[38;5;241;43m.\u001B[39;49m\u001B[43mpath\u001B[49m\u001B[38;5;241;43m.\u001B[39;49m\u001B[43mjoin\u001B[49m\u001B[43m(\u001B[49m\u001B[43minput_data_dir\u001B[49m\u001B[43m,\u001B[49m\u001B[43m \u001B[49m\u001B[38;5;124;43m'\u001B[39;49m\u001B[38;5;124;43mtrain_series.parquet\u001B[39;49m\u001B[38;5;124;43m'\u001B[39;49m\u001B[43m)\u001B[49m\u001B[43m,\u001B[49m\n\u001B[0;32m      4\u001B[0m \u001B[43m    \u001B[49m\u001B[43mcolumns\u001B[49m\u001B[38;5;241;43m=\u001B[39;49m\u001B[43m[\u001B[49m\u001B[38;5;124;43m\"\u001B[39;49m\u001B[38;5;124;43mseries_id\u001B[39;49m\u001B[38;5;124;43m\"\u001B[39;49m\u001B[43m,\u001B[49m\u001B[43m \u001B[49m\u001B[38;5;124;43m\"\u001B[39;49m\u001B[38;5;124;43mstep\u001B[39;49m\u001B[38;5;124;43m\"\u001B[39;49m\u001B[43m,\u001B[49m\u001B[43m \u001B[49m\u001B[38;5;124;43m\"\u001B[39;49m\u001B[38;5;124;43manglez\u001B[39;49m\u001B[38;5;124;43m\"\u001B[39;49m\u001B[43m,\u001B[49m\u001B[43m \u001B[49m\u001B[38;5;124;43m\"\u001B[39;49m\u001B[38;5;124;43menmo\u001B[39;49m\u001B[38;5;124;43m\"\u001B[39;49m\u001B[43m]\u001B[49m\n\u001B[0;32m      5\u001B[0m \u001B[43m)\u001B[49m\n",
      "File \u001B[1;32m~\\AppData\\Local\\Programs\\Python\\Python39\\lib\\site-packages\\pandas\\io\\parquet.py:670\u001B[0m, in \u001B[0;36mread_parquet\u001B[1;34m(path, engine, columns, storage_options, use_nullable_dtypes, dtype_backend, filesystem, filters, **kwargs)\u001B[0m\n\u001B[0;32m    667\u001B[0m     use_nullable_dtypes \u001B[38;5;241m=\u001B[39m \u001B[38;5;28;01mFalse\u001B[39;00m\n\u001B[0;32m    668\u001B[0m check_dtype_backend(dtype_backend)\n\u001B[1;32m--> 670\u001B[0m \u001B[38;5;28;01mreturn\u001B[39;00m impl\u001B[38;5;241m.\u001B[39mread(\n\u001B[0;32m    671\u001B[0m     path,\n\u001B[0;32m    672\u001B[0m     columns\u001B[38;5;241m=\u001B[39mcolumns,\n\u001B[0;32m    673\u001B[0m     filters\u001B[38;5;241m=\u001B[39mfilters,\n\u001B[0;32m    674\u001B[0m     storage_options\u001B[38;5;241m=\u001B[39mstorage_options,\n\u001B[0;32m    675\u001B[0m     use_nullable_dtypes\u001B[38;5;241m=\u001B[39muse_nullable_dtypes,\n\u001B[0;32m    676\u001B[0m     dtype_backend\u001B[38;5;241m=\u001B[39mdtype_backend,\n\u001B[0;32m    677\u001B[0m     filesystem\u001B[38;5;241m=\u001B[39mfilesystem,\n\u001B[0;32m    678\u001B[0m     \u001B[38;5;241m*\u001B[39m\u001B[38;5;241m*\u001B[39mkwargs,\n\u001B[0;32m    679\u001B[0m )\n",
      "File \u001B[1;32m~\\AppData\\Local\\Programs\\Python\\Python39\\lib\\site-packages\\pandas\\io\\parquet.py:272\u001B[0m, in \u001B[0;36mPyArrowImpl.read\u001B[1;34m(self, path, columns, filters, use_nullable_dtypes, dtype_backend, storage_options, filesystem, **kwargs)\u001B[0m\n\u001B[0;32m    265\u001B[0m path_or_handle, handles, filesystem \u001B[38;5;241m=\u001B[39m _get_path_or_handle(\n\u001B[0;32m    266\u001B[0m     path,\n\u001B[0;32m    267\u001B[0m     filesystem,\n\u001B[0;32m    268\u001B[0m     storage_options\u001B[38;5;241m=\u001B[39mstorage_options,\n\u001B[0;32m    269\u001B[0m     mode\u001B[38;5;241m=\u001B[39m\u001B[38;5;124m\"\u001B[39m\u001B[38;5;124mrb\u001B[39m\u001B[38;5;124m\"\u001B[39m,\n\u001B[0;32m    270\u001B[0m )\n\u001B[0;32m    271\u001B[0m \u001B[38;5;28;01mtry\u001B[39;00m:\n\u001B[1;32m--> 272\u001B[0m     pa_table \u001B[38;5;241m=\u001B[39m \u001B[38;5;28mself\u001B[39m\u001B[38;5;241m.\u001B[39mapi\u001B[38;5;241m.\u001B[39mparquet\u001B[38;5;241m.\u001B[39mread_table(\n\u001B[0;32m    273\u001B[0m         path_or_handle,\n\u001B[0;32m    274\u001B[0m         columns\u001B[38;5;241m=\u001B[39mcolumns,\n\u001B[0;32m    275\u001B[0m         filesystem\u001B[38;5;241m=\u001B[39mfilesystem,\n\u001B[0;32m    276\u001B[0m         filters\u001B[38;5;241m=\u001B[39mfilters,\n\u001B[0;32m    277\u001B[0m         \u001B[38;5;241m*\u001B[39m\u001B[38;5;241m*\u001B[39mkwargs,\n\u001B[0;32m    278\u001B[0m     )\n\u001B[0;32m    279\u001B[0m     result \u001B[38;5;241m=\u001B[39m pa_table\u001B[38;5;241m.\u001B[39mto_pandas(\u001B[38;5;241m*\u001B[39m\u001B[38;5;241m*\u001B[39mto_pandas_kwargs)\n\u001B[0;32m    281\u001B[0m     \u001B[38;5;28;01mif\u001B[39;00m manager \u001B[38;5;241m==\u001B[39m \u001B[38;5;124m\"\u001B[39m\u001B[38;5;124marray\u001B[39m\u001B[38;5;124m\"\u001B[39m:\n",
      "File \u001B[1;32m~\\AppData\\Local\\Programs\\Python\\Python39\\lib\\site-packages\\pyarrow\\parquet\\core.py:3003\u001B[0m, in \u001B[0;36mread_table\u001B[1;34m(source, columns, use_threads, metadata, schema, use_pandas_metadata, read_dictionary, memory_map, buffer_size, partitioning, filesystem, filters, use_legacy_dataset, ignore_prefixes, pre_buffer, coerce_int96_timestamp_unit, decryption_properties, thrift_string_size_limit, thrift_container_size_limit)\u001B[0m\n\u001B[0;32m   2992\u001B[0m         \u001B[38;5;66;03m# TODO test that source is not a directory or a list\u001B[39;00m\n\u001B[0;32m   2993\u001B[0m         dataset \u001B[38;5;241m=\u001B[39m ParquetFile(\n\u001B[0;32m   2994\u001B[0m             source, metadata\u001B[38;5;241m=\u001B[39mmetadata, read_dictionary\u001B[38;5;241m=\u001B[39mread_dictionary,\n\u001B[0;32m   2995\u001B[0m             memory_map\u001B[38;5;241m=\u001B[39mmemory_map, buffer_size\u001B[38;5;241m=\u001B[39mbuffer_size,\n\u001B[1;32m   (...)\u001B[0m\n\u001B[0;32m   3000\u001B[0m             thrift_container_size_limit\u001B[38;5;241m=\u001B[39mthrift_container_size_limit,\n\u001B[0;32m   3001\u001B[0m         )\n\u001B[1;32m-> 3003\u001B[0m     \u001B[38;5;28;01mreturn\u001B[39;00m \u001B[43mdataset\u001B[49m\u001B[38;5;241;43m.\u001B[39;49m\u001B[43mread\u001B[49m\u001B[43m(\u001B[49m\u001B[43mcolumns\u001B[49m\u001B[38;5;241;43m=\u001B[39;49m\u001B[43mcolumns\u001B[49m\u001B[43m,\u001B[49m\u001B[43m \u001B[49m\u001B[43muse_threads\u001B[49m\u001B[38;5;241;43m=\u001B[39;49m\u001B[43muse_threads\u001B[49m\u001B[43m,\u001B[49m\n\u001B[0;32m   3004\u001B[0m \u001B[43m                        \u001B[49m\u001B[43muse_pandas_metadata\u001B[49m\u001B[38;5;241;43m=\u001B[39;49m\u001B[43muse_pandas_metadata\u001B[49m\u001B[43m)\u001B[49m\n\u001B[0;32m   3006\u001B[0m warnings\u001B[38;5;241m.\u001B[39mwarn(\n\u001B[0;32m   3007\u001B[0m     \u001B[38;5;124m\"\u001B[39m\u001B[38;5;124mPassing \u001B[39m\u001B[38;5;124m'\u001B[39m\u001B[38;5;124muse_legacy_dataset=True\u001B[39m\u001B[38;5;124m'\u001B[39m\u001B[38;5;124m to get the legacy behaviour is \u001B[39m\u001B[38;5;124m\"\u001B[39m\n\u001B[0;32m   3008\u001B[0m     \u001B[38;5;124m\"\u001B[39m\u001B[38;5;124mdeprecated as of pyarrow 8.0.0, and the legacy implementation will \u001B[39m\u001B[38;5;124m\"\u001B[39m\n\u001B[0;32m   3009\u001B[0m     \u001B[38;5;124m\"\u001B[39m\u001B[38;5;124mbe removed in a future version.\u001B[39m\u001B[38;5;124m\"\u001B[39m,\n\u001B[0;32m   3010\u001B[0m     \u001B[38;5;167;01mFutureWarning\u001B[39;00m, stacklevel\u001B[38;5;241m=\u001B[39m\u001B[38;5;241m2\u001B[39m)\n\u001B[0;32m   3012\u001B[0m \u001B[38;5;28;01mif\u001B[39;00m ignore_prefixes \u001B[38;5;129;01mis\u001B[39;00m \u001B[38;5;129;01mnot\u001B[39;00m \u001B[38;5;28;01mNone\u001B[39;00m:\n",
      "File \u001B[1;32m~\\AppData\\Local\\Programs\\Python\\Python39\\lib\\site-packages\\pyarrow\\parquet\\core.py:2631\u001B[0m, in \u001B[0;36m_ParquetDatasetV2.read\u001B[1;34m(self, columns, use_threads, use_pandas_metadata)\u001B[0m\n\u001B[0;32m   2623\u001B[0m         index_columns \u001B[38;5;241m=\u001B[39m [\n\u001B[0;32m   2624\u001B[0m             col \u001B[38;5;28;01mfor\u001B[39;00m col \u001B[38;5;129;01min\u001B[39;00m _get_pandas_index_columns(metadata)\n\u001B[0;32m   2625\u001B[0m             \u001B[38;5;28;01mif\u001B[39;00m \u001B[38;5;129;01mnot\u001B[39;00m \u001B[38;5;28misinstance\u001B[39m(col, \u001B[38;5;28mdict\u001B[39m)\n\u001B[0;32m   2626\u001B[0m         ]\n\u001B[0;32m   2627\u001B[0m         columns \u001B[38;5;241m=\u001B[39m (\n\u001B[0;32m   2628\u001B[0m             \u001B[38;5;28mlist\u001B[39m(columns) \u001B[38;5;241m+\u001B[39m \u001B[38;5;28mlist\u001B[39m(\u001B[38;5;28mset\u001B[39m(index_columns) \u001B[38;5;241m-\u001B[39m \u001B[38;5;28mset\u001B[39m(columns))\n\u001B[0;32m   2629\u001B[0m         )\n\u001B[1;32m-> 2631\u001B[0m table \u001B[38;5;241m=\u001B[39m \u001B[38;5;28;43mself\u001B[39;49m\u001B[38;5;241;43m.\u001B[39;49m\u001B[43m_dataset\u001B[49m\u001B[38;5;241;43m.\u001B[39;49m\u001B[43mto_table\u001B[49m\u001B[43m(\u001B[49m\n\u001B[0;32m   2632\u001B[0m \u001B[43m    \u001B[49m\u001B[43mcolumns\u001B[49m\u001B[38;5;241;43m=\u001B[39;49m\u001B[43mcolumns\u001B[49m\u001B[43m,\u001B[49m\u001B[43m \u001B[49m\u001B[38;5;28;43mfilter\u001B[39;49m\u001B[38;5;241;43m=\u001B[39;49m\u001B[38;5;28;43mself\u001B[39;49m\u001B[38;5;241;43m.\u001B[39;49m\u001B[43m_filter_expression\u001B[49m\u001B[43m,\u001B[49m\n\u001B[0;32m   2633\u001B[0m \u001B[43m    \u001B[49m\u001B[43muse_threads\u001B[49m\u001B[38;5;241;43m=\u001B[39;49m\u001B[43muse_threads\u001B[49m\n\u001B[0;32m   2634\u001B[0m \u001B[43m\u001B[49m\u001B[43m)\u001B[49m\n\u001B[0;32m   2636\u001B[0m \u001B[38;5;66;03m# if use_pandas_metadata, restore the pandas metadata (which gets\u001B[39;00m\n\u001B[0;32m   2637\u001B[0m \u001B[38;5;66;03m# lost if doing a specific `columns` selection in to_table)\u001B[39;00m\n\u001B[0;32m   2638\u001B[0m \u001B[38;5;28;01mif\u001B[39;00m use_pandas_metadata:\n",
      "File \u001B[1;32m~\\AppData\\Local\\Programs\\Python\\Python39\\lib\\site-packages\\pyarrow\\_dataset.pyx:556\u001B[0m, in \u001B[0;36mpyarrow._dataset.Dataset.to_table\u001B[1;34m()\u001B[0m\n",
      "File \u001B[1;32m~\\AppData\\Local\\Programs\\Python\\Python39\\lib\\site-packages\\pyarrow\\_dataset.pyx:3713\u001B[0m, in \u001B[0;36mpyarrow._dataset.Scanner.to_table\u001B[1;34m()\u001B[0m\n",
      "File \u001B[1;32m~\\AppData\\Local\\Programs\\Python\\Python39\\lib\\site-packages\\pyarrow\\error.pxi:154\u001B[0m, in \u001B[0;36mpyarrow.lib.pyarrow_internal_check_status\u001B[1;34m()\u001B[0m\n",
      "File \u001B[1;32m~\\AppData\\Local\\Programs\\Python\\Python39\\lib\\site-packages\\pyarrow\\error.pxi:91\u001B[0m, in \u001B[0;36mpyarrow.lib.check_status\u001B[1;34m()\u001B[0m\n",
      "\u001B[1;31mArrowMemoryError\u001B[0m: realloc of size 6391296 failed"
     ]
    }
   ],
   "source": [
    "# Load the series data\n",
    "train_series = pd.read_parquet(\n",
    "    os.path.join(input_data_dir, 'train_series.parquet'),\n",
    "    columns=[\"series_id\", \"step\", \"anglez\", \"enmo\"]\n",
    ")"
   ],
   "metadata": {
    "collapsed": false
   }
  },
  {
   "cell_type": "code",
   "execution_count": 8,
   "outputs": [],
   "source": [
    "# Merge the two data frames\n",
    "merged_data = pd.merge_ordered(train_series, train_events, on=['series_id', 'step'])\n",
    "# merged_data['event'] = merged_data['event'].astype('category')\n",
    "merged_data['series_id'] = merged_data['series_id'].astype('category')"
   ],
   "metadata": {
    "collapsed": false
   }
  },
  {
   "cell_type": "code",
   "execution_count": 9,
   "outputs": [
    {
     "data": {
      "text/plain": "       series_id  step     anglez    enmo  night event  d1_enmo  d1_anglez  \\\n0   038441c925bb     0   2.636700  0.0217    NaN   NaN      NaN        NaN   \n1   038441c925bb     1   2.636800  0.0215    NaN   NaN  -0.0002   0.000100   \n2   038441c925bb     2   2.637000  0.0216    NaN   NaN   0.0001   0.000200   \n3   038441c925bb     3   2.636800  0.0213    NaN   NaN  -0.0003  -0.000200   \n4   038441c925bb     4   2.636800  0.0215    NaN   NaN   0.0002   0.000000   \n5   038441c925bb     5   2.636700  0.0217    NaN   NaN   0.0002  -0.000100   \n6   038441c925bb     6   2.636700  0.0217    NaN   NaN   0.0000   0.000000   \n7   038441c925bb     7   2.636700  0.0218    NaN   NaN   0.0001   0.000000   \n8   038441c925bb     8   2.798000  0.0223    NaN   NaN   0.0005   0.161300   \n9   038441c925bb     9   3.084700  0.0217    NaN   NaN  -0.0006   0.286700   \n10  038441c925bb    10   2.780200  0.0229    NaN   NaN   0.0012  -0.304500   \n11  038441c925bb    11   2.520500  0.0216    NaN   NaN  -0.0013  -0.259700   \n12  038441c925bb    12   2.412900  0.0218    NaN   NaN   0.0002  -0.107600   \n13  038441c925bb    13   2.412900  0.0214    NaN   NaN  -0.0004   0.000000   \n14  038441c925bb    14   2.412900  0.0214    NaN   NaN   0.0000   0.000000   \n15  038441c925bb    15   2.412900  0.0214    NaN   NaN   0.0000   0.000000   \n16  038441c925bb    16   2.412900  0.0215    NaN   NaN   0.0001   0.000000   \n17  038441c925bb    17   2.413200  0.0217    NaN   NaN   0.0002   0.000300   \n18  038441c925bb    18  49.874401  0.0395    NaN   NaN   0.0178  47.461201   \n19  038441c925bb    19  54.849800  0.0166    NaN   NaN  -0.0229   4.975399   \n20  038441c925bb    20  44.099300  0.0170    NaN   NaN   0.0004 -10.750500   \n21  038441c925bb    21  67.381302  0.0102    NaN   NaN  -0.0068  23.282001   \n22  038441c925bb    22  68.460503  0.0238    NaN   NaN   0.0136   1.079201   \n23  038441c925bb    23  37.721901  0.0070    NaN   NaN  -0.0168 -30.738602   \n24  038441c925bb    24  30.002501  0.0082    NaN   NaN   0.0012  -7.719400   \n\n    d6_enmo  d6_anglez  \n0       NaN        NaN  \n1       NaN        NaN  \n2       NaN        NaN  \n3       NaN        NaN  \n4       NaN        NaN  \n5       NaN        NaN  \n6    0.0000   0.000000  \n7    0.0003  -0.000100  \n8    0.0007   0.161000  \n9    0.0004   0.447900  \n10   0.0014   0.143400  \n11  -0.0001  -0.116200  \n12   0.0001  -0.223800  \n13  -0.0004  -0.223800  \n14  -0.0009  -0.385100  \n15  -0.0003  -0.671800  \n16  -0.0014  -0.367300  \n17   0.0001  -0.107300  \n18   0.0177  47.461502  \n19  -0.0048  52.436901  \n20  -0.0044  41.686401  \n21  -0.0112  64.968399  \n22   0.0023  66.047600  \n23  -0.0147  35.308701  \n24  -0.0313 -19.871901  ",
      "text/html": "<div>\n<style scoped>\n    .dataframe tbody tr th:only-of-type {\n        vertical-align: middle;\n    }\n\n    .dataframe tbody tr th {\n        vertical-align: top;\n    }\n\n    .dataframe thead th {\n        text-align: right;\n    }\n</style>\n<table border=\"1\" class=\"dataframe\">\n  <thead>\n    <tr style=\"text-align: right;\">\n      <th></th>\n      <th>series_id</th>\n      <th>step</th>\n      <th>anglez</th>\n      <th>enmo</th>\n      <th>night</th>\n      <th>event</th>\n      <th>d1_enmo</th>\n      <th>d1_anglez</th>\n      <th>d6_enmo</th>\n      <th>d6_anglez</th>\n    </tr>\n  </thead>\n  <tbody>\n    <tr>\n      <th>0</th>\n      <td>038441c925bb</td>\n      <td>0</td>\n      <td>2.636700</td>\n      <td>0.0217</td>\n      <td>NaN</td>\n      <td>NaN</td>\n      <td>NaN</td>\n      <td>NaN</td>\n      <td>NaN</td>\n      <td>NaN</td>\n    </tr>\n    <tr>\n      <th>1</th>\n      <td>038441c925bb</td>\n      <td>1</td>\n      <td>2.636800</td>\n      <td>0.0215</td>\n      <td>NaN</td>\n      <td>NaN</td>\n      <td>-0.0002</td>\n      <td>0.000100</td>\n      <td>NaN</td>\n      <td>NaN</td>\n    </tr>\n    <tr>\n      <th>2</th>\n      <td>038441c925bb</td>\n      <td>2</td>\n      <td>2.637000</td>\n      <td>0.0216</td>\n      <td>NaN</td>\n      <td>NaN</td>\n      <td>0.0001</td>\n      <td>0.000200</td>\n      <td>NaN</td>\n      <td>NaN</td>\n    </tr>\n    <tr>\n      <th>3</th>\n      <td>038441c925bb</td>\n      <td>3</td>\n      <td>2.636800</td>\n      <td>0.0213</td>\n      <td>NaN</td>\n      <td>NaN</td>\n      <td>-0.0003</td>\n      <td>-0.000200</td>\n      <td>NaN</td>\n      <td>NaN</td>\n    </tr>\n    <tr>\n      <th>4</th>\n      <td>038441c925bb</td>\n      <td>4</td>\n      <td>2.636800</td>\n      <td>0.0215</td>\n      <td>NaN</td>\n      <td>NaN</td>\n      <td>0.0002</td>\n      <td>0.000000</td>\n      <td>NaN</td>\n      <td>NaN</td>\n    </tr>\n    <tr>\n      <th>5</th>\n      <td>038441c925bb</td>\n      <td>5</td>\n      <td>2.636700</td>\n      <td>0.0217</td>\n      <td>NaN</td>\n      <td>NaN</td>\n      <td>0.0002</td>\n      <td>-0.000100</td>\n      <td>NaN</td>\n      <td>NaN</td>\n    </tr>\n    <tr>\n      <th>6</th>\n      <td>038441c925bb</td>\n      <td>6</td>\n      <td>2.636700</td>\n      <td>0.0217</td>\n      <td>NaN</td>\n      <td>NaN</td>\n      <td>0.0000</td>\n      <td>0.000000</td>\n      <td>0.0000</td>\n      <td>0.000000</td>\n    </tr>\n    <tr>\n      <th>7</th>\n      <td>038441c925bb</td>\n      <td>7</td>\n      <td>2.636700</td>\n      <td>0.0218</td>\n      <td>NaN</td>\n      <td>NaN</td>\n      <td>0.0001</td>\n      <td>0.000000</td>\n      <td>0.0003</td>\n      <td>-0.000100</td>\n    </tr>\n    <tr>\n      <th>8</th>\n      <td>038441c925bb</td>\n      <td>8</td>\n      <td>2.798000</td>\n      <td>0.0223</td>\n      <td>NaN</td>\n      <td>NaN</td>\n      <td>0.0005</td>\n      <td>0.161300</td>\n      <td>0.0007</td>\n      <td>0.161000</td>\n    </tr>\n    <tr>\n      <th>9</th>\n      <td>038441c925bb</td>\n      <td>9</td>\n      <td>3.084700</td>\n      <td>0.0217</td>\n      <td>NaN</td>\n      <td>NaN</td>\n      <td>-0.0006</td>\n      <td>0.286700</td>\n      <td>0.0004</td>\n      <td>0.447900</td>\n    </tr>\n    <tr>\n      <th>10</th>\n      <td>038441c925bb</td>\n      <td>10</td>\n      <td>2.780200</td>\n      <td>0.0229</td>\n      <td>NaN</td>\n      <td>NaN</td>\n      <td>0.0012</td>\n      <td>-0.304500</td>\n      <td>0.0014</td>\n      <td>0.143400</td>\n    </tr>\n    <tr>\n      <th>11</th>\n      <td>038441c925bb</td>\n      <td>11</td>\n      <td>2.520500</td>\n      <td>0.0216</td>\n      <td>NaN</td>\n      <td>NaN</td>\n      <td>-0.0013</td>\n      <td>-0.259700</td>\n      <td>-0.0001</td>\n      <td>-0.116200</td>\n    </tr>\n    <tr>\n      <th>12</th>\n      <td>038441c925bb</td>\n      <td>12</td>\n      <td>2.412900</td>\n      <td>0.0218</td>\n      <td>NaN</td>\n      <td>NaN</td>\n      <td>0.0002</td>\n      <td>-0.107600</td>\n      <td>0.0001</td>\n      <td>-0.223800</td>\n    </tr>\n    <tr>\n      <th>13</th>\n      <td>038441c925bb</td>\n      <td>13</td>\n      <td>2.412900</td>\n      <td>0.0214</td>\n      <td>NaN</td>\n      <td>NaN</td>\n      <td>-0.0004</td>\n      <td>0.000000</td>\n      <td>-0.0004</td>\n      <td>-0.223800</td>\n    </tr>\n    <tr>\n      <th>14</th>\n      <td>038441c925bb</td>\n      <td>14</td>\n      <td>2.412900</td>\n      <td>0.0214</td>\n      <td>NaN</td>\n      <td>NaN</td>\n      <td>0.0000</td>\n      <td>0.000000</td>\n      <td>-0.0009</td>\n      <td>-0.385100</td>\n    </tr>\n    <tr>\n      <th>15</th>\n      <td>038441c925bb</td>\n      <td>15</td>\n      <td>2.412900</td>\n      <td>0.0214</td>\n      <td>NaN</td>\n      <td>NaN</td>\n      <td>0.0000</td>\n      <td>0.000000</td>\n      <td>-0.0003</td>\n      <td>-0.671800</td>\n    </tr>\n    <tr>\n      <th>16</th>\n      <td>038441c925bb</td>\n      <td>16</td>\n      <td>2.412900</td>\n      <td>0.0215</td>\n      <td>NaN</td>\n      <td>NaN</td>\n      <td>0.0001</td>\n      <td>0.000000</td>\n      <td>-0.0014</td>\n      <td>-0.367300</td>\n    </tr>\n    <tr>\n      <th>17</th>\n      <td>038441c925bb</td>\n      <td>17</td>\n      <td>2.413200</td>\n      <td>0.0217</td>\n      <td>NaN</td>\n      <td>NaN</td>\n      <td>0.0002</td>\n      <td>0.000300</td>\n      <td>0.0001</td>\n      <td>-0.107300</td>\n    </tr>\n    <tr>\n      <th>18</th>\n      <td>038441c925bb</td>\n      <td>18</td>\n      <td>49.874401</td>\n      <td>0.0395</td>\n      <td>NaN</td>\n      <td>NaN</td>\n      <td>0.0178</td>\n      <td>47.461201</td>\n      <td>0.0177</td>\n      <td>47.461502</td>\n    </tr>\n    <tr>\n      <th>19</th>\n      <td>038441c925bb</td>\n      <td>19</td>\n      <td>54.849800</td>\n      <td>0.0166</td>\n      <td>NaN</td>\n      <td>NaN</td>\n      <td>-0.0229</td>\n      <td>4.975399</td>\n      <td>-0.0048</td>\n      <td>52.436901</td>\n    </tr>\n    <tr>\n      <th>20</th>\n      <td>038441c925bb</td>\n      <td>20</td>\n      <td>44.099300</td>\n      <td>0.0170</td>\n      <td>NaN</td>\n      <td>NaN</td>\n      <td>0.0004</td>\n      <td>-10.750500</td>\n      <td>-0.0044</td>\n      <td>41.686401</td>\n    </tr>\n    <tr>\n      <th>21</th>\n      <td>038441c925bb</td>\n      <td>21</td>\n      <td>67.381302</td>\n      <td>0.0102</td>\n      <td>NaN</td>\n      <td>NaN</td>\n      <td>-0.0068</td>\n      <td>23.282001</td>\n      <td>-0.0112</td>\n      <td>64.968399</td>\n    </tr>\n    <tr>\n      <th>22</th>\n      <td>038441c925bb</td>\n      <td>22</td>\n      <td>68.460503</td>\n      <td>0.0238</td>\n      <td>NaN</td>\n      <td>NaN</td>\n      <td>0.0136</td>\n      <td>1.079201</td>\n      <td>0.0023</td>\n      <td>66.047600</td>\n    </tr>\n    <tr>\n      <th>23</th>\n      <td>038441c925bb</td>\n      <td>23</td>\n      <td>37.721901</td>\n      <td>0.0070</td>\n      <td>NaN</td>\n      <td>NaN</td>\n      <td>-0.0168</td>\n      <td>-30.738602</td>\n      <td>-0.0147</td>\n      <td>35.308701</td>\n    </tr>\n    <tr>\n      <th>24</th>\n      <td>038441c925bb</td>\n      <td>24</td>\n      <td>30.002501</td>\n      <td>0.0082</td>\n      <td>NaN</td>\n      <td>NaN</td>\n      <td>0.0012</td>\n      <td>-7.719400</td>\n      <td>-0.0313</td>\n      <td>-19.871901</td>\n    </tr>\n  </tbody>\n</table>\n</div>"
     },
     "execution_count": 9,
     "metadata": {},
     "output_type": "execute_result"
    }
   ],
   "source": [
    "merged_data[['d1_enmo', 'd1_anglez']] = merged_data[['enmo', 'anglez']] - merged_data[['enmo', 'anglez']].shift(1)\n",
    "merged_data[['d6_enmo', 'd6_anglez']] = merged_data[['enmo', 'anglez']] - merged_data[['enmo', 'anglez']].shift(6)\n",
    "merged_data.head(25)"
   ],
   "metadata": {
    "collapsed": false
   }
  },
  {
   "cell_type": "code",
   "execution_count": 10,
   "outputs": [
    {
     "data": {
      "text/plain": "       series_id  step     anglez    enmo  night event  d1_enmo  d1_anglez  \\\n0   038441c925bb     6   2.636700  0.0217    NaN   NaN   0.0000   0.000000   \n1   038441c925bb     7   2.636700  0.0218    NaN   NaN   0.0001   0.000000   \n2   038441c925bb     8   2.798000  0.0223    NaN   NaN   0.0005   0.161300   \n3   038441c925bb     9   3.084700  0.0217    NaN   NaN  -0.0006   0.286700   \n4   038441c925bb    10   2.780200  0.0229    NaN   NaN   0.0012  -0.304500   \n5   038441c925bb    11   2.520500  0.0216    NaN   NaN  -0.0013  -0.259700   \n6   038441c925bb    12   2.412900  0.0218    NaN   NaN   0.0002  -0.107600   \n7   038441c925bb    13   2.412900  0.0214    NaN   NaN  -0.0004   0.000000   \n8   038441c925bb    14   2.412900  0.0214    NaN   NaN   0.0000   0.000000   \n9   038441c925bb    15   2.412900  0.0214    NaN   NaN   0.0000   0.000000   \n10  038441c925bb    16   2.412900  0.0215    NaN   NaN   0.0001   0.000000   \n11  038441c925bb    17   2.413200  0.0217    NaN   NaN   0.0002   0.000300   \n12  038441c925bb    18  49.874401  0.0395    NaN   NaN   0.0178  47.461201   \n13  038441c925bb    19  54.849800  0.0166    NaN   NaN  -0.0229   4.975399   \n14  038441c925bb    20  44.099300  0.0170    NaN   NaN   0.0004 -10.750500   \n15  038441c925bb    21  67.381302  0.0102    NaN   NaN  -0.0068  23.282001   \n16  038441c925bb    22  68.460503  0.0238    NaN   NaN   0.0136   1.079201   \n17  038441c925bb    23  37.721901  0.0070    NaN   NaN  -0.0168 -30.738602   \n18  038441c925bb    24  30.002501  0.0082    NaN   NaN   0.0012  -7.719400   \n19  038441c925bb    25  27.867901  0.0119    NaN   NaN   0.0037  -2.134600   \n20  038441c925bb    26  28.585600  0.0115    NaN   NaN  -0.0004   0.717699   \n21  038441c925bb    27  -6.606900  0.0691    NaN   NaN   0.0576 -35.192501   \n22  038441c925bb    28 -79.970398  0.0132    NaN   NaN  -0.0559 -73.363495   \n23  038441c925bb    29 -79.988297  0.0136    NaN   NaN   0.0004  -0.017899   \n24  038441c925bb    30 -79.998703  0.0134    NaN   NaN  -0.0002  -0.010406   \n\n    d6_enmo   d6_anglez  \n0    0.0000    0.000000  \n1    0.0003   -0.000100  \n2    0.0007    0.161000  \n3    0.0004    0.447900  \n4    0.0014    0.143400  \n5   -0.0001   -0.116200  \n6    0.0001   -0.223800  \n7   -0.0004   -0.223800  \n8   -0.0009   -0.385100  \n9   -0.0003   -0.671800  \n10  -0.0014   -0.367300  \n11   0.0001   -0.107300  \n12   0.0177   47.461502  \n13  -0.0048   52.436901  \n14  -0.0044   41.686401  \n15  -0.0112   64.968399  \n16   0.0023   66.047600  \n17  -0.0147   35.308701  \n18  -0.0313  -19.871901  \n19  -0.0047  -26.981899  \n20  -0.0055  -15.513700  \n21   0.0589  -73.988205  \n22  -0.0106 -148.430908  \n23   0.0066 -117.710197  \n24   0.0052 -110.001205  ",
      "text/html": "<div>\n<style scoped>\n    .dataframe tbody tr th:only-of-type {\n        vertical-align: middle;\n    }\n\n    .dataframe tbody tr th {\n        vertical-align: top;\n    }\n\n    .dataframe thead th {\n        text-align: right;\n    }\n</style>\n<table border=\"1\" class=\"dataframe\">\n  <thead>\n    <tr style=\"text-align: right;\">\n      <th></th>\n      <th>series_id</th>\n      <th>step</th>\n      <th>anglez</th>\n      <th>enmo</th>\n      <th>night</th>\n      <th>event</th>\n      <th>d1_enmo</th>\n      <th>d1_anglez</th>\n      <th>d6_enmo</th>\n      <th>d6_anglez</th>\n    </tr>\n  </thead>\n  <tbody>\n    <tr>\n      <th>0</th>\n      <td>038441c925bb</td>\n      <td>6</td>\n      <td>2.636700</td>\n      <td>0.0217</td>\n      <td>NaN</td>\n      <td>NaN</td>\n      <td>0.0000</td>\n      <td>0.000000</td>\n      <td>0.0000</td>\n      <td>0.000000</td>\n    </tr>\n    <tr>\n      <th>1</th>\n      <td>038441c925bb</td>\n      <td>7</td>\n      <td>2.636700</td>\n      <td>0.0218</td>\n      <td>NaN</td>\n      <td>NaN</td>\n      <td>0.0001</td>\n      <td>0.000000</td>\n      <td>0.0003</td>\n      <td>-0.000100</td>\n    </tr>\n    <tr>\n      <th>2</th>\n      <td>038441c925bb</td>\n      <td>8</td>\n      <td>2.798000</td>\n      <td>0.0223</td>\n      <td>NaN</td>\n      <td>NaN</td>\n      <td>0.0005</td>\n      <td>0.161300</td>\n      <td>0.0007</td>\n      <td>0.161000</td>\n    </tr>\n    <tr>\n      <th>3</th>\n      <td>038441c925bb</td>\n      <td>9</td>\n      <td>3.084700</td>\n      <td>0.0217</td>\n      <td>NaN</td>\n      <td>NaN</td>\n      <td>-0.0006</td>\n      <td>0.286700</td>\n      <td>0.0004</td>\n      <td>0.447900</td>\n    </tr>\n    <tr>\n      <th>4</th>\n      <td>038441c925bb</td>\n      <td>10</td>\n      <td>2.780200</td>\n      <td>0.0229</td>\n      <td>NaN</td>\n      <td>NaN</td>\n      <td>0.0012</td>\n      <td>-0.304500</td>\n      <td>0.0014</td>\n      <td>0.143400</td>\n    </tr>\n    <tr>\n      <th>5</th>\n      <td>038441c925bb</td>\n      <td>11</td>\n      <td>2.520500</td>\n      <td>0.0216</td>\n      <td>NaN</td>\n      <td>NaN</td>\n      <td>-0.0013</td>\n      <td>-0.259700</td>\n      <td>-0.0001</td>\n      <td>-0.116200</td>\n    </tr>\n    <tr>\n      <th>6</th>\n      <td>038441c925bb</td>\n      <td>12</td>\n      <td>2.412900</td>\n      <td>0.0218</td>\n      <td>NaN</td>\n      <td>NaN</td>\n      <td>0.0002</td>\n      <td>-0.107600</td>\n      <td>0.0001</td>\n      <td>-0.223800</td>\n    </tr>\n    <tr>\n      <th>7</th>\n      <td>038441c925bb</td>\n      <td>13</td>\n      <td>2.412900</td>\n      <td>0.0214</td>\n      <td>NaN</td>\n      <td>NaN</td>\n      <td>-0.0004</td>\n      <td>0.000000</td>\n      <td>-0.0004</td>\n      <td>-0.223800</td>\n    </tr>\n    <tr>\n      <th>8</th>\n      <td>038441c925bb</td>\n      <td>14</td>\n      <td>2.412900</td>\n      <td>0.0214</td>\n      <td>NaN</td>\n      <td>NaN</td>\n      <td>0.0000</td>\n      <td>0.000000</td>\n      <td>-0.0009</td>\n      <td>-0.385100</td>\n    </tr>\n    <tr>\n      <th>9</th>\n      <td>038441c925bb</td>\n      <td>15</td>\n      <td>2.412900</td>\n      <td>0.0214</td>\n      <td>NaN</td>\n      <td>NaN</td>\n      <td>0.0000</td>\n      <td>0.000000</td>\n      <td>-0.0003</td>\n      <td>-0.671800</td>\n    </tr>\n    <tr>\n      <th>10</th>\n      <td>038441c925bb</td>\n      <td>16</td>\n      <td>2.412900</td>\n      <td>0.0215</td>\n      <td>NaN</td>\n      <td>NaN</td>\n      <td>0.0001</td>\n      <td>0.000000</td>\n      <td>-0.0014</td>\n      <td>-0.367300</td>\n    </tr>\n    <tr>\n      <th>11</th>\n      <td>038441c925bb</td>\n      <td>17</td>\n      <td>2.413200</td>\n      <td>0.0217</td>\n      <td>NaN</td>\n      <td>NaN</td>\n      <td>0.0002</td>\n      <td>0.000300</td>\n      <td>0.0001</td>\n      <td>-0.107300</td>\n    </tr>\n    <tr>\n      <th>12</th>\n      <td>038441c925bb</td>\n      <td>18</td>\n      <td>49.874401</td>\n      <td>0.0395</td>\n      <td>NaN</td>\n      <td>NaN</td>\n      <td>0.0178</td>\n      <td>47.461201</td>\n      <td>0.0177</td>\n      <td>47.461502</td>\n    </tr>\n    <tr>\n      <th>13</th>\n      <td>038441c925bb</td>\n      <td>19</td>\n      <td>54.849800</td>\n      <td>0.0166</td>\n      <td>NaN</td>\n      <td>NaN</td>\n      <td>-0.0229</td>\n      <td>4.975399</td>\n      <td>-0.0048</td>\n      <td>52.436901</td>\n    </tr>\n    <tr>\n      <th>14</th>\n      <td>038441c925bb</td>\n      <td>20</td>\n      <td>44.099300</td>\n      <td>0.0170</td>\n      <td>NaN</td>\n      <td>NaN</td>\n      <td>0.0004</td>\n      <td>-10.750500</td>\n      <td>-0.0044</td>\n      <td>41.686401</td>\n    </tr>\n    <tr>\n      <th>15</th>\n      <td>038441c925bb</td>\n      <td>21</td>\n      <td>67.381302</td>\n      <td>0.0102</td>\n      <td>NaN</td>\n      <td>NaN</td>\n      <td>-0.0068</td>\n      <td>23.282001</td>\n      <td>-0.0112</td>\n      <td>64.968399</td>\n    </tr>\n    <tr>\n      <th>16</th>\n      <td>038441c925bb</td>\n      <td>22</td>\n      <td>68.460503</td>\n      <td>0.0238</td>\n      <td>NaN</td>\n      <td>NaN</td>\n      <td>0.0136</td>\n      <td>1.079201</td>\n      <td>0.0023</td>\n      <td>66.047600</td>\n    </tr>\n    <tr>\n      <th>17</th>\n      <td>038441c925bb</td>\n      <td>23</td>\n      <td>37.721901</td>\n      <td>0.0070</td>\n      <td>NaN</td>\n      <td>NaN</td>\n      <td>-0.0168</td>\n      <td>-30.738602</td>\n      <td>-0.0147</td>\n      <td>35.308701</td>\n    </tr>\n    <tr>\n      <th>18</th>\n      <td>038441c925bb</td>\n      <td>24</td>\n      <td>30.002501</td>\n      <td>0.0082</td>\n      <td>NaN</td>\n      <td>NaN</td>\n      <td>0.0012</td>\n      <td>-7.719400</td>\n      <td>-0.0313</td>\n      <td>-19.871901</td>\n    </tr>\n    <tr>\n      <th>19</th>\n      <td>038441c925bb</td>\n      <td>25</td>\n      <td>27.867901</td>\n      <td>0.0119</td>\n      <td>NaN</td>\n      <td>NaN</td>\n      <td>0.0037</td>\n      <td>-2.134600</td>\n      <td>-0.0047</td>\n      <td>-26.981899</td>\n    </tr>\n    <tr>\n      <th>20</th>\n      <td>038441c925bb</td>\n      <td>26</td>\n      <td>28.585600</td>\n      <td>0.0115</td>\n      <td>NaN</td>\n      <td>NaN</td>\n      <td>-0.0004</td>\n      <td>0.717699</td>\n      <td>-0.0055</td>\n      <td>-15.513700</td>\n    </tr>\n    <tr>\n      <th>21</th>\n      <td>038441c925bb</td>\n      <td>27</td>\n      <td>-6.606900</td>\n      <td>0.0691</td>\n      <td>NaN</td>\n      <td>NaN</td>\n      <td>0.0576</td>\n      <td>-35.192501</td>\n      <td>0.0589</td>\n      <td>-73.988205</td>\n    </tr>\n    <tr>\n      <th>22</th>\n      <td>038441c925bb</td>\n      <td>28</td>\n      <td>-79.970398</td>\n      <td>0.0132</td>\n      <td>NaN</td>\n      <td>NaN</td>\n      <td>-0.0559</td>\n      <td>-73.363495</td>\n      <td>-0.0106</td>\n      <td>-148.430908</td>\n    </tr>\n    <tr>\n      <th>23</th>\n      <td>038441c925bb</td>\n      <td>29</td>\n      <td>-79.988297</td>\n      <td>0.0136</td>\n      <td>NaN</td>\n      <td>NaN</td>\n      <td>0.0004</td>\n      <td>-0.017899</td>\n      <td>0.0066</td>\n      <td>-117.710197</td>\n    </tr>\n    <tr>\n      <th>24</th>\n      <td>038441c925bb</td>\n      <td>30</td>\n      <td>-79.998703</td>\n      <td>0.0134</td>\n      <td>NaN</td>\n      <td>NaN</td>\n      <td>-0.0002</td>\n      <td>-0.010406</td>\n      <td>0.0052</td>\n      <td>-110.001205</td>\n    </tr>\n  </tbody>\n</table>\n</div>"
     },
     "execution_count": 10,
     "metadata": {},
     "output_type": "execute_result"
    }
   ],
   "source": [
    "merged_data.tail(25)\n",
    "merged_data.dropna(subset='d6_enmo', inplace=True)\n",
    "merged_data.reset_index(inplace=True, drop=True)\n",
    "merged_data.head(25)"
   ],
   "metadata": {
    "collapsed": false
   }
  },
  {
   "cell_type": "code",
   "execution_count": 14,
   "outputs": [],
   "source": [
    "#Store the merged dataframe\n",
    "merged_data.to_parquet('input_data/merged_data.parquet')"
   ],
   "metadata": {
    "collapsed": false
   }
  },
  {
   "cell_type": "code",
   "execution_count": 6,
   "outputs": [],
   "source": [
    "merged_data = pd.read_parquet(os.path.join(input_data_dir, 'merged_data.parquet'))"
   ],
   "metadata": {
    "collapsed": false
   }
  },
  {
   "cell_type": "code",
   "execution_count": 8,
   "outputs": [
    {
     "ename": "MemoryError",
     "evalue": "",
     "output_type": "error",
     "traceback": [
      "\u001B[1;31m---------------------------------------------------------------------------\u001B[0m",
      "\u001B[1;31mMemoryError\u001B[0m                               Traceback (most recent call last)",
      "Cell \u001B[1;32mIn[8], line 6\u001B[0m\n\u001B[0;32m      4\u001B[0m last_wakeup_index \u001B[38;5;241m=\u001B[39m \u001B[38;5;241m0\u001B[39m\n\u001B[0;32m      5\u001B[0m rows_to_delete \u001B[38;5;241m=\u001B[39m []\n\u001B[1;32m----> 6\u001B[0m \u001B[38;5;28;01mfor\u001B[39;00m index, row \u001B[38;5;129;01min\u001B[39;00m merged_data\u001B[38;5;241m.\u001B[39miterrows():\n\u001B[0;32m      8\u001B[0m     \u001B[38;5;28;01mif\u001B[39;00m row[\u001B[38;5;124m'\u001B[39m\u001B[38;5;124mevent\u001B[39m\u001B[38;5;124m'\u001B[39m] \u001B[38;5;241m==\u001B[39m \u001B[38;5;124m'\u001B[39m\u001B[38;5;124monset\u001B[39m\u001B[38;5;124m'\u001B[39m:\n\u001B[0;32m      9\u001B[0m         \u001B[38;5;28;01mif\u001B[39;00m row[\u001B[38;5;124m'\u001B[39m\u001B[38;5;124mnight\u001B[39m\u001B[38;5;124m'\u001B[39m] \u001B[38;5;241m-\u001B[39m last_night \u001B[38;5;241m!=\u001B[39m \u001B[38;5;241m1\u001B[39m \u001B[38;5;129;01mor\u001B[39;00m row[\u001B[38;5;124m'\u001B[39m\u001B[38;5;124mseries_id\u001B[39m\u001B[38;5;124m'\u001B[39m] \u001B[38;5;241m!=\u001B[39m last_id:\n",
      "File \u001B[1;32m~\\AppData\\Local\\Programs\\Python\\Python39\\lib\\site-packages\\pandas\\core\\frame.py:1449\u001B[0m, in \u001B[0;36mDataFrame.iterrows\u001B[1;34m(self)\u001B[0m\n\u001B[0;32m   1447\u001B[0m klass \u001B[38;5;241m=\u001B[39m \u001B[38;5;28mself\u001B[39m\u001B[38;5;241m.\u001B[39m_constructor_sliced\n\u001B[0;32m   1448\u001B[0m using_cow \u001B[38;5;241m=\u001B[39m using_copy_on_write()\n\u001B[1;32m-> 1449\u001B[0m \u001B[38;5;28;01mfor\u001B[39;00m k, v \u001B[38;5;129;01min\u001B[39;00m \u001B[38;5;28mzip\u001B[39m(\u001B[38;5;28mself\u001B[39m\u001B[38;5;241m.\u001B[39mindex, \u001B[38;5;28;43mself\u001B[39;49m\u001B[38;5;241;43m.\u001B[39;49m\u001B[43mvalues\u001B[49m):\n\u001B[0;32m   1450\u001B[0m     s \u001B[38;5;241m=\u001B[39m klass(v, index\u001B[38;5;241m=\u001B[39mcolumns, name\u001B[38;5;241m=\u001B[39mk)\u001B[38;5;241m.\u001B[39m__finalize__(\u001B[38;5;28mself\u001B[39m)\n\u001B[0;32m   1451\u001B[0m     \u001B[38;5;28;01mif\u001B[39;00m using_cow \u001B[38;5;129;01mand\u001B[39;00m \u001B[38;5;28mself\u001B[39m\u001B[38;5;241m.\u001B[39m_mgr\u001B[38;5;241m.\u001B[39mis_single_block:\n",
      "File \u001B[1;32m~\\AppData\\Local\\Programs\\Python\\Python39\\lib\\site-packages\\pandas\\core\\frame.py:12281\u001B[0m, in \u001B[0;36mDataFrame.values\u001B[1;34m(self)\u001B[0m\n\u001B[0;32m  12207\u001B[0m \u001B[38;5;129m@property\u001B[39m\n\u001B[0;32m  12208\u001B[0m \u001B[38;5;28;01mdef\u001B[39;00m \u001B[38;5;21mvalues\u001B[39m(\u001B[38;5;28mself\u001B[39m) \u001B[38;5;241m-\u001B[39m\u001B[38;5;241m>\u001B[39m np\u001B[38;5;241m.\u001B[39mndarray:\n\u001B[0;32m  12209\u001B[0m \u001B[38;5;250m    \u001B[39m\u001B[38;5;124;03m\"\"\"\u001B[39;00m\n\u001B[0;32m  12210\u001B[0m \u001B[38;5;124;03m    Return a Numpy representation of the DataFrame.\u001B[39;00m\n\u001B[0;32m  12211\u001B[0m \n\u001B[1;32m   (...)\u001B[0m\n\u001B[0;32m  12279\u001B[0m \u001B[38;5;124;03m           ['monkey', nan, None]], dtype=object)\u001B[39;00m\n\u001B[0;32m  12280\u001B[0m \u001B[38;5;124;03m    \"\"\"\u001B[39;00m\n\u001B[1;32m> 12281\u001B[0m     \u001B[38;5;28;01mreturn\u001B[39;00m \u001B[38;5;28;43mself\u001B[39;49m\u001B[38;5;241;43m.\u001B[39;49m\u001B[43m_mgr\u001B[49m\u001B[38;5;241;43m.\u001B[39;49m\u001B[43mas_array\u001B[49m\u001B[43m(\u001B[49m\u001B[43m)\u001B[49m\n",
      "File \u001B[1;32m~\\AppData\\Local\\Programs\\Python\\Python39\\lib\\site-packages\\pandas\\core\\internals\\managers.py:1656\u001B[0m, in \u001B[0;36mBlockManager.as_array\u001B[1;34m(self, dtype, copy, na_value)\u001B[0m\n\u001B[0;32m   1654\u001B[0m         arr\u001B[38;5;241m.\u001B[39mflags\u001B[38;5;241m.\u001B[39mwriteable \u001B[38;5;241m=\u001B[39m \u001B[38;5;28;01mFalse\u001B[39;00m\n\u001B[0;32m   1655\u001B[0m \u001B[38;5;28;01melse\u001B[39;00m:\n\u001B[1;32m-> 1656\u001B[0m     arr \u001B[38;5;241m=\u001B[39m \u001B[38;5;28;43mself\u001B[39;49m\u001B[38;5;241;43m.\u001B[39;49m\u001B[43m_interleave\u001B[49m\u001B[43m(\u001B[49m\u001B[43mdtype\u001B[49m\u001B[38;5;241;43m=\u001B[39;49m\u001B[43mdtype\u001B[49m\u001B[43m,\u001B[49m\u001B[43m \u001B[49m\u001B[43mna_value\u001B[49m\u001B[38;5;241;43m=\u001B[39;49m\u001B[43mna_value\u001B[49m\u001B[43m)\u001B[49m\n\u001B[0;32m   1657\u001B[0m     \u001B[38;5;66;03m# The underlying data was copied within _interleave, so no need\u001B[39;00m\n\u001B[0;32m   1658\u001B[0m     \u001B[38;5;66;03m# to further copy if copy=True or setting na_value\u001B[39;00m\n\u001B[0;32m   1660\u001B[0m \u001B[38;5;28;01mif\u001B[39;00m na_value \u001B[38;5;129;01mis\u001B[39;00m lib\u001B[38;5;241m.\u001B[39mno_default:\n",
      "File \u001B[1;32m~\\AppData\\Local\\Programs\\Python\\Python39\\lib\\site-packages\\pandas\\core\\internals\\managers.py:1697\u001B[0m, in \u001B[0;36mBlockManager._interleave\u001B[1;34m(self, dtype, na_value)\u001B[0m\n\u001B[0;32m   1695\u001B[0m \u001B[38;5;28;01mfor\u001B[39;00m blk \u001B[38;5;129;01min\u001B[39;00m \u001B[38;5;28mself\u001B[39m\u001B[38;5;241m.\u001B[39mblocks:\n\u001B[0;32m   1696\u001B[0m     rl \u001B[38;5;241m=\u001B[39m blk\u001B[38;5;241m.\u001B[39mmgr_locs\n\u001B[1;32m-> 1697\u001B[0m     arr \u001B[38;5;241m=\u001B[39m \u001B[43mblk\u001B[49m\u001B[38;5;241;43m.\u001B[39;49m\u001B[43mget_values\u001B[49m\u001B[43m(\u001B[49m\u001B[43mdtype\u001B[49m\u001B[43m)\u001B[49m\n\u001B[0;32m   1698\u001B[0m     result[rl\u001B[38;5;241m.\u001B[39mindexer] \u001B[38;5;241m=\u001B[39m arr\n\u001B[0;32m   1699\u001B[0m     itemmask[rl\u001B[38;5;241m.\u001B[39mindexer] \u001B[38;5;241m=\u001B[39m \u001B[38;5;241m1\u001B[39m\n",
      "File \u001B[1;32m~\\AppData\\Local\\Programs\\Python\\Python39\\lib\\site-packages\\pandas\\core\\internals\\blocks.py:2247\u001B[0m, in \u001B[0;36mNumpyBlock.get_values\u001B[1;34m(self, dtype)\u001B[0m\n\u001B[0;32m   2245\u001B[0m \u001B[38;5;28;01mdef\u001B[39;00m \u001B[38;5;21mget_values\u001B[39m(\u001B[38;5;28mself\u001B[39m, dtype: DtypeObj \u001B[38;5;241m|\u001B[39m \u001B[38;5;28;01mNone\u001B[39;00m \u001B[38;5;241m=\u001B[39m \u001B[38;5;28;01mNone\u001B[39;00m) \u001B[38;5;241m-\u001B[39m\u001B[38;5;241m>\u001B[39m np\u001B[38;5;241m.\u001B[39mndarray:\n\u001B[0;32m   2246\u001B[0m     \u001B[38;5;28;01mif\u001B[39;00m dtype \u001B[38;5;241m==\u001B[39m _dtype_obj:\n\u001B[1;32m-> 2247\u001B[0m         \u001B[38;5;28;01mreturn\u001B[39;00m \u001B[38;5;28;43mself\u001B[39;49m\u001B[38;5;241;43m.\u001B[39;49m\u001B[43mvalues\u001B[49m\u001B[38;5;241;43m.\u001B[39;49m\u001B[43mastype\u001B[49m\u001B[43m(\u001B[49m\u001B[43m_dtype_obj\u001B[49m\u001B[43m)\u001B[49m\n\u001B[0;32m   2248\u001B[0m     \u001B[38;5;28;01mreturn\u001B[39;00m \u001B[38;5;28mself\u001B[39m\u001B[38;5;241m.\u001B[39mvalues\n",
      "\u001B[1;31mMemoryError\u001B[0m: "
     ]
    }
   ],
   "source": [
    "# finding the rows that need to be deleted\n",
    "last_id = merged_data.iloc[0]['series_id']\n",
    "last_night = 0\n",
    "last_wakeup_index = 0\n",
    "rows_to_delete = []\n",
    "for index, row in merged_data.iterrows():\n",
    "\n",
    "    if row['event'] == 'onset':\n",
    "        if row['night'] - last_night != 1 or row['series_id'] != last_id:\n",
    "            rows_to_delete.append((last_wakeup_index, index))\n",
    "            if row['series_id'] != last_id:\n",
    "                last_id = row['series_id']\n",
    "                last_night = row['night']\n",
    "        else:\n",
    "            last_night = row['night']\n",
    "    if row['event'] == 'wakeup':\n",
    "        last_wakeup_index = index\n"
   ],
   "metadata": {
    "collapsed": false
   }
  },
  {
   "cell_type": "code",
   "execution_count": 119,
   "outputs": [
    {
     "name": "stdout",
     "output_type": "stream",
     "text": [
      "[(62856, 91296), (97860, 109500), (118524, 127296), (133332, 159972), (167400, 177036), (180804, 194220)]\n"
     ]
    }
   ],
   "source": [
    "print(rows_to_delete)"
   ],
   "metadata": {
    "collapsed": false
   }
  },
  {
   "cell_type": "code",
   "execution_count": 124,
   "outputs": [
    {
     "ename": "KeyError",
     "evalue": "\"['night'] not found in axis\"",
     "output_type": "error",
     "traceback": [
      "\u001B[1;31m---------------------------------------------------------------------------\u001B[0m",
      "\u001B[1;31mKeyError\u001B[0m                                  Traceback (most recent call last)",
      "Cell \u001B[1;32mIn[124], line 2\u001B[0m\n\u001B[0;32m      1\u001B[0m \u001B[38;5;66;03m# Delete the 'night' row\u001B[39;00m\n\u001B[1;32m----> 2\u001B[0m \u001B[43mmerged_data\u001B[49m\u001B[38;5;241;43m.\u001B[39;49m\u001B[43mdrop\u001B[49m\u001B[43m(\u001B[49m\u001B[43mcolumns\u001B[49m\u001B[38;5;241;43m=\u001B[39;49m\u001B[38;5;124;43m'\u001B[39;49m\u001B[38;5;124;43mnight\u001B[39;49m\u001B[38;5;124;43m'\u001B[39;49m\u001B[43m,\u001B[49m\u001B[43m \u001B[49m\u001B[43minplace\u001B[49m\u001B[38;5;241;43m=\u001B[39;49m\u001B[38;5;28;43;01mTrue\u001B[39;49;00m\u001B[43m)\u001B[49m\n\u001B[0;32m      3\u001B[0m merged_data\u001B[38;5;241m.\u001B[39mhead(\u001B[38;5;241m50\u001B[39m)\n",
      "File \u001B[1;32m~\\AppData\\Local\\Programs\\Python\\Python39\\lib\\site-packages\\pandas\\core\\frame.py:5344\u001B[0m, in \u001B[0;36mDataFrame.drop\u001B[1;34m(self, labels, axis, index, columns, level, inplace, errors)\u001B[0m\n\u001B[0;32m   5196\u001B[0m \u001B[38;5;28;01mdef\u001B[39;00m \u001B[38;5;21mdrop\u001B[39m(\n\u001B[0;32m   5197\u001B[0m     \u001B[38;5;28mself\u001B[39m,\n\u001B[0;32m   5198\u001B[0m     labels: IndexLabel \u001B[38;5;241m|\u001B[39m \u001B[38;5;28;01mNone\u001B[39;00m \u001B[38;5;241m=\u001B[39m \u001B[38;5;28;01mNone\u001B[39;00m,\n\u001B[1;32m   (...)\u001B[0m\n\u001B[0;32m   5205\u001B[0m     errors: IgnoreRaise \u001B[38;5;241m=\u001B[39m \u001B[38;5;124m\"\u001B[39m\u001B[38;5;124mraise\u001B[39m\u001B[38;5;124m\"\u001B[39m,\n\u001B[0;32m   5206\u001B[0m ) \u001B[38;5;241m-\u001B[39m\u001B[38;5;241m>\u001B[39m DataFrame \u001B[38;5;241m|\u001B[39m \u001B[38;5;28;01mNone\u001B[39;00m:\n\u001B[0;32m   5207\u001B[0m \u001B[38;5;250m    \u001B[39m\u001B[38;5;124;03m\"\"\"\u001B[39;00m\n\u001B[0;32m   5208\u001B[0m \u001B[38;5;124;03m    Drop specified labels from rows or columns.\u001B[39;00m\n\u001B[0;32m   5209\u001B[0m \n\u001B[1;32m   (...)\u001B[0m\n\u001B[0;32m   5342\u001B[0m \u001B[38;5;124;03m            weight  1.0     0.8\u001B[39;00m\n\u001B[0;32m   5343\u001B[0m \u001B[38;5;124;03m    \"\"\"\u001B[39;00m\n\u001B[1;32m-> 5344\u001B[0m     \u001B[38;5;28;01mreturn\u001B[39;00m \u001B[38;5;28;43msuper\u001B[39;49m\u001B[43m(\u001B[49m\u001B[43m)\u001B[49m\u001B[38;5;241;43m.\u001B[39;49m\u001B[43mdrop\u001B[49m\u001B[43m(\u001B[49m\n\u001B[0;32m   5345\u001B[0m \u001B[43m        \u001B[49m\u001B[43mlabels\u001B[49m\u001B[38;5;241;43m=\u001B[39;49m\u001B[43mlabels\u001B[49m\u001B[43m,\u001B[49m\n\u001B[0;32m   5346\u001B[0m \u001B[43m        \u001B[49m\u001B[43maxis\u001B[49m\u001B[38;5;241;43m=\u001B[39;49m\u001B[43maxis\u001B[49m\u001B[43m,\u001B[49m\n\u001B[0;32m   5347\u001B[0m \u001B[43m        \u001B[49m\u001B[43mindex\u001B[49m\u001B[38;5;241;43m=\u001B[39;49m\u001B[43mindex\u001B[49m\u001B[43m,\u001B[49m\n\u001B[0;32m   5348\u001B[0m \u001B[43m        \u001B[49m\u001B[43mcolumns\u001B[49m\u001B[38;5;241;43m=\u001B[39;49m\u001B[43mcolumns\u001B[49m\u001B[43m,\u001B[49m\n\u001B[0;32m   5349\u001B[0m \u001B[43m        \u001B[49m\u001B[43mlevel\u001B[49m\u001B[38;5;241;43m=\u001B[39;49m\u001B[43mlevel\u001B[49m\u001B[43m,\u001B[49m\n\u001B[0;32m   5350\u001B[0m \u001B[43m        \u001B[49m\u001B[43minplace\u001B[49m\u001B[38;5;241;43m=\u001B[39;49m\u001B[43minplace\u001B[49m\u001B[43m,\u001B[49m\n\u001B[0;32m   5351\u001B[0m \u001B[43m        \u001B[49m\u001B[43merrors\u001B[49m\u001B[38;5;241;43m=\u001B[39;49m\u001B[43merrors\u001B[49m\u001B[43m,\u001B[49m\n\u001B[0;32m   5352\u001B[0m \u001B[43m    \u001B[49m\u001B[43m)\u001B[49m\n",
      "File \u001B[1;32m~\\AppData\\Local\\Programs\\Python\\Python39\\lib\\site-packages\\pandas\\core\\generic.py:4711\u001B[0m, in \u001B[0;36mNDFrame.drop\u001B[1;34m(self, labels, axis, index, columns, level, inplace, errors)\u001B[0m\n\u001B[0;32m   4709\u001B[0m \u001B[38;5;28;01mfor\u001B[39;00m axis, labels \u001B[38;5;129;01min\u001B[39;00m axes\u001B[38;5;241m.\u001B[39mitems():\n\u001B[0;32m   4710\u001B[0m     \u001B[38;5;28;01mif\u001B[39;00m labels \u001B[38;5;129;01mis\u001B[39;00m \u001B[38;5;129;01mnot\u001B[39;00m \u001B[38;5;28;01mNone\u001B[39;00m:\n\u001B[1;32m-> 4711\u001B[0m         obj \u001B[38;5;241m=\u001B[39m \u001B[43mobj\u001B[49m\u001B[38;5;241;43m.\u001B[39;49m\u001B[43m_drop_axis\u001B[49m\u001B[43m(\u001B[49m\u001B[43mlabels\u001B[49m\u001B[43m,\u001B[49m\u001B[43m \u001B[49m\u001B[43maxis\u001B[49m\u001B[43m,\u001B[49m\u001B[43m \u001B[49m\u001B[43mlevel\u001B[49m\u001B[38;5;241;43m=\u001B[39;49m\u001B[43mlevel\u001B[49m\u001B[43m,\u001B[49m\u001B[43m \u001B[49m\u001B[43merrors\u001B[49m\u001B[38;5;241;43m=\u001B[39;49m\u001B[43merrors\u001B[49m\u001B[43m)\u001B[49m\n\u001B[0;32m   4713\u001B[0m \u001B[38;5;28;01mif\u001B[39;00m inplace:\n\u001B[0;32m   4714\u001B[0m     \u001B[38;5;28mself\u001B[39m\u001B[38;5;241m.\u001B[39m_update_inplace(obj)\n",
      "File \u001B[1;32m~\\AppData\\Local\\Programs\\Python\\Python39\\lib\\site-packages\\pandas\\core\\generic.py:4753\u001B[0m, in \u001B[0;36mNDFrame._drop_axis\u001B[1;34m(self, labels, axis, level, errors, only_slice)\u001B[0m\n\u001B[0;32m   4751\u001B[0m         new_axis \u001B[38;5;241m=\u001B[39m axis\u001B[38;5;241m.\u001B[39mdrop(labels, level\u001B[38;5;241m=\u001B[39mlevel, errors\u001B[38;5;241m=\u001B[39merrors)\n\u001B[0;32m   4752\u001B[0m     \u001B[38;5;28;01melse\u001B[39;00m:\n\u001B[1;32m-> 4753\u001B[0m         new_axis \u001B[38;5;241m=\u001B[39m \u001B[43maxis\u001B[49m\u001B[38;5;241;43m.\u001B[39;49m\u001B[43mdrop\u001B[49m\u001B[43m(\u001B[49m\u001B[43mlabels\u001B[49m\u001B[43m,\u001B[49m\u001B[43m \u001B[49m\u001B[43merrors\u001B[49m\u001B[38;5;241;43m=\u001B[39;49m\u001B[43merrors\u001B[49m\u001B[43m)\u001B[49m\n\u001B[0;32m   4754\u001B[0m     indexer \u001B[38;5;241m=\u001B[39m axis\u001B[38;5;241m.\u001B[39mget_indexer(new_axis)\n\u001B[0;32m   4756\u001B[0m \u001B[38;5;66;03m# Case for non-unique axis\u001B[39;00m\n\u001B[0;32m   4757\u001B[0m \u001B[38;5;28;01melse\u001B[39;00m:\n",
      "File \u001B[1;32m~\\AppData\\Local\\Programs\\Python\\Python39\\lib\\site-packages\\pandas\\core\\indexes\\base.py:6992\u001B[0m, in \u001B[0;36mIndex.drop\u001B[1;34m(self, labels, errors)\u001B[0m\n\u001B[0;32m   6990\u001B[0m \u001B[38;5;28;01mif\u001B[39;00m mask\u001B[38;5;241m.\u001B[39many():\n\u001B[0;32m   6991\u001B[0m     \u001B[38;5;28;01mif\u001B[39;00m errors \u001B[38;5;241m!=\u001B[39m \u001B[38;5;124m\"\u001B[39m\u001B[38;5;124mignore\u001B[39m\u001B[38;5;124m\"\u001B[39m:\n\u001B[1;32m-> 6992\u001B[0m         \u001B[38;5;28;01mraise\u001B[39;00m \u001B[38;5;167;01mKeyError\u001B[39;00m(\u001B[38;5;124mf\u001B[39m\u001B[38;5;124m\"\u001B[39m\u001B[38;5;132;01m{\u001B[39;00mlabels[mask]\u001B[38;5;241m.\u001B[39mtolist()\u001B[38;5;132;01m}\u001B[39;00m\u001B[38;5;124m not found in axis\u001B[39m\u001B[38;5;124m\"\u001B[39m)\n\u001B[0;32m   6993\u001B[0m     indexer \u001B[38;5;241m=\u001B[39m indexer[\u001B[38;5;241m~\u001B[39mmask]\n\u001B[0;32m   6994\u001B[0m \u001B[38;5;28;01mreturn\u001B[39;00m \u001B[38;5;28mself\u001B[39m\u001B[38;5;241m.\u001B[39mdelete(indexer)\n",
      "\u001B[1;31mKeyError\u001B[0m: \"['night'] not found in axis\""
     ]
    }
   ],
   "source": [
    "# Delete the 'night' row\n",
    "merged_data.drop(columns='night', inplace=True)"
   ],
   "metadata": {
    "collapsed": false
   }
  },
  {
   "cell_type": "code",
   "execution_count": 125,
   "outputs": [
    {
     "ename": "MemoryError",
     "evalue": "Unable to allocate 976. MiB for an array with shape (127922215,) and data type int64",
     "output_type": "error",
     "traceback": [
      "\u001B[1;31m---------------------------------------------------------------------------\u001B[0m",
      "\u001B[1;31mMemoryError\u001B[0m                               Traceback (most recent call last)",
      "Cell \u001B[1;32mIn[125], line 5\u001B[0m\n\u001B[0;32m      3\u001B[0m buffer \u001B[38;5;241m=\u001B[39m \u001B[38;5;241m12\u001B[39m\u001B[38;5;241m*\u001B[39m\u001B[38;5;241m180\u001B[39m\n\u001B[0;32m      4\u001B[0m \u001B[38;5;28;01mfor\u001B[39;00m delete_tuple \u001B[38;5;129;01min\u001B[39;00m rows_to_delete:\n\u001B[1;32m----> 5\u001B[0m     \u001B[43mmerged_data\u001B[49m\u001B[38;5;241;43m.\u001B[39;49m\u001B[43mdrop\u001B[49m\u001B[43m(\u001B[49m\u001B[38;5;28;43mrange\u001B[39;49m\u001B[43m(\u001B[49m\u001B[43mdelete_tuple\u001B[49m\u001B[43m[\u001B[49m\u001B[38;5;241;43m0\u001B[39;49m\u001B[43m]\u001B[49m\u001B[43m \u001B[49m\u001B[38;5;241;43m+\u001B[39;49m\u001B[43m \u001B[49m\u001B[43mbuffer\u001B[49m\u001B[43m,\u001B[49m\u001B[43m \u001B[49m\u001B[43mdelete_tuple\u001B[49m\u001B[43m[\u001B[49m\u001B[38;5;241;43m1\u001B[39;49m\u001B[43m]\u001B[49m\u001B[43m \u001B[49m\u001B[38;5;241;43m-\u001B[39;49m\u001B[43m \u001B[49m\u001B[43mbuffer\u001B[49m\u001B[43m \u001B[49m\u001B[38;5;241;43m-\u001B[39;49m\u001B[43m \u001B[49m\u001B[38;5;241;43m1\u001B[39;49m\u001B[43m)\u001B[49m\u001B[43m,\u001B[49m\u001B[43m \u001B[49m\u001B[43minplace\u001B[49m\u001B[38;5;241;43m=\u001B[39;49m\u001B[38;5;28;43;01mTrue\u001B[39;49;00m\u001B[43m)\u001B[49m\n\u001B[0;32m      6\u001B[0m merged_data\u001B[38;5;241m.\u001B[39mhead(\u001B[38;5;241m50\u001B[39m)\n",
      "File \u001B[1;32m~\\AppData\\Local\\Programs\\Python\\Python39\\lib\\site-packages\\pandas\\core\\frame.py:5344\u001B[0m, in \u001B[0;36mDataFrame.drop\u001B[1;34m(self, labels, axis, index, columns, level, inplace, errors)\u001B[0m\n\u001B[0;32m   5196\u001B[0m \u001B[38;5;28;01mdef\u001B[39;00m \u001B[38;5;21mdrop\u001B[39m(\n\u001B[0;32m   5197\u001B[0m     \u001B[38;5;28mself\u001B[39m,\n\u001B[0;32m   5198\u001B[0m     labels: IndexLabel \u001B[38;5;241m|\u001B[39m \u001B[38;5;28;01mNone\u001B[39;00m \u001B[38;5;241m=\u001B[39m \u001B[38;5;28;01mNone\u001B[39;00m,\n\u001B[1;32m   (...)\u001B[0m\n\u001B[0;32m   5205\u001B[0m     errors: IgnoreRaise \u001B[38;5;241m=\u001B[39m \u001B[38;5;124m\"\u001B[39m\u001B[38;5;124mraise\u001B[39m\u001B[38;5;124m\"\u001B[39m,\n\u001B[0;32m   5206\u001B[0m ) \u001B[38;5;241m-\u001B[39m\u001B[38;5;241m>\u001B[39m DataFrame \u001B[38;5;241m|\u001B[39m \u001B[38;5;28;01mNone\u001B[39;00m:\n\u001B[0;32m   5207\u001B[0m \u001B[38;5;250m    \u001B[39m\u001B[38;5;124;03m\"\"\"\u001B[39;00m\n\u001B[0;32m   5208\u001B[0m \u001B[38;5;124;03m    Drop specified labels from rows or columns.\u001B[39;00m\n\u001B[0;32m   5209\u001B[0m \n\u001B[1;32m   (...)\u001B[0m\n\u001B[0;32m   5342\u001B[0m \u001B[38;5;124;03m            weight  1.0     0.8\u001B[39;00m\n\u001B[0;32m   5343\u001B[0m \u001B[38;5;124;03m    \"\"\"\u001B[39;00m\n\u001B[1;32m-> 5344\u001B[0m     \u001B[38;5;28;01mreturn\u001B[39;00m \u001B[38;5;28;43msuper\u001B[39;49m\u001B[43m(\u001B[49m\u001B[43m)\u001B[49m\u001B[38;5;241;43m.\u001B[39;49m\u001B[43mdrop\u001B[49m\u001B[43m(\u001B[49m\n\u001B[0;32m   5345\u001B[0m \u001B[43m        \u001B[49m\u001B[43mlabels\u001B[49m\u001B[38;5;241;43m=\u001B[39;49m\u001B[43mlabels\u001B[49m\u001B[43m,\u001B[49m\n\u001B[0;32m   5346\u001B[0m \u001B[43m        \u001B[49m\u001B[43maxis\u001B[49m\u001B[38;5;241;43m=\u001B[39;49m\u001B[43maxis\u001B[49m\u001B[43m,\u001B[49m\n\u001B[0;32m   5347\u001B[0m \u001B[43m        \u001B[49m\u001B[43mindex\u001B[49m\u001B[38;5;241;43m=\u001B[39;49m\u001B[43mindex\u001B[49m\u001B[43m,\u001B[49m\n\u001B[0;32m   5348\u001B[0m \u001B[43m        \u001B[49m\u001B[43mcolumns\u001B[49m\u001B[38;5;241;43m=\u001B[39;49m\u001B[43mcolumns\u001B[49m\u001B[43m,\u001B[49m\n\u001B[0;32m   5349\u001B[0m \u001B[43m        \u001B[49m\u001B[43mlevel\u001B[49m\u001B[38;5;241;43m=\u001B[39;49m\u001B[43mlevel\u001B[49m\u001B[43m,\u001B[49m\n\u001B[0;32m   5350\u001B[0m \u001B[43m        \u001B[49m\u001B[43minplace\u001B[49m\u001B[38;5;241;43m=\u001B[39;49m\u001B[43minplace\u001B[49m\u001B[43m,\u001B[49m\n\u001B[0;32m   5351\u001B[0m \u001B[43m        \u001B[49m\u001B[43merrors\u001B[49m\u001B[38;5;241;43m=\u001B[39;49m\u001B[43merrors\u001B[49m\u001B[43m,\u001B[49m\n\u001B[0;32m   5352\u001B[0m \u001B[43m    \u001B[49m\u001B[43m)\u001B[49m\n",
      "File \u001B[1;32m~\\AppData\\Local\\Programs\\Python\\Python39\\lib\\site-packages\\pandas\\core\\generic.py:4711\u001B[0m, in \u001B[0;36mNDFrame.drop\u001B[1;34m(self, labels, axis, index, columns, level, inplace, errors)\u001B[0m\n\u001B[0;32m   4709\u001B[0m \u001B[38;5;28;01mfor\u001B[39;00m axis, labels \u001B[38;5;129;01min\u001B[39;00m axes\u001B[38;5;241m.\u001B[39mitems():\n\u001B[0;32m   4710\u001B[0m     \u001B[38;5;28;01mif\u001B[39;00m labels \u001B[38;5;129;01mis\u001B[39;00m \u001B[38;5;129;01mnot\u001B[39;00m \u001B[38;5;28;01mNone\u001B[39;00m:\n\u001B[1;32m-> 4711\u001B[0m         obj \u001B[38;5;241m=\u001B[39m \u001B[43mobj\u001B[49m\u001B[38;5;241;43m.\u001B[39;49m\u001B[43m_drop_axis\u001B[49m\u001B[43m(\u001B[49m\u001B[43mlabels\u001B[49m\u001B[43m,\u001B[49m\u001B[43m \u001B[49m\u001B[43maxis\u001B[49m\u001B[43m,\u001B[49m\u001B[43m \u001B[49m\u001B[43mlevel\u001B[49m\u001B[38;5;241;43m=\u001B[39;49m\u001B[43mlevel\u001B[49m\u001B[43m,\u001B[49m\u001B[43m \u001B[49m\u001B[43merrors\u001B[49m\u001B[38;5;241;43m=\u001B[39;49m\u001B[43merrors\u001B[49m\u001B[43m)\u001B[49m\n\u001B[0;32m   4713\u001B[0m \u001B[38;5;28;01mif\u001B[39;00m inplace:\n\u001B[0;32m   4714\u001B[0m     \u001B[38;5;28mself\u001B[39m\u001B[38;5;241m.\u001B[39m_update_inplace(obj)\n",
      "File \u001B[1;32m~\\AppData\\Local\\Programs\\Python\\Python39\\lib\\site-packages\\pandas\\core\\generic.py:4754\u001B[0m, in \u001B[0;36mNDFrame._drop_axis\u001B[1;34m(self, labels, axis, level, errors, only_slice)\u001B[0m\n\u001B[0;32m   4752\u001B[0m     \u001B[38;5;28;01melse\u001B[39;00m:\n\u001B[0;32m   4753\u001B[0m         new_axis \u001B[38;5;241m=\u001B[39m axis\u001B[38;5;241m.\u001B[39mdrop(labels, errors\u001B[38;5;241m=\u001B[39merrors)\n\u001B[1;32m-> 4754\u001B[0m     indexer \u001B[38;5;241m=\u001B[39m \u001B[43maxis\u001B[49m\u001B[38;5;241;43m.\u001B[39;49m\u001B[43mget_indexer\u001B[49m\u001B[43m(\u001B[49m\u001B[43mnew_axis\u001B[49m\u001B[43m)\u001B[49m\n\u001B[0;32m   4756\u001B[0m \u001B[38;5;66;03m# Case for non-unique axis\u001B[39;00m\n\u001B[0;32m   4757\u001B[0m \u001B[38;5;28;01melse\u001B[39;00m:\n\u001B[0;32m   4758\u001B[0m     is_tuple_labels \u001B[38;5;241m=\u001B[39m is_nested_list_like(labels) \u001B[38;5;129;01mor\u001B[39;00m \u001B[38;5;28misinstance\u001B[39m(labels, \u001B[38;5;28mtuple\u001B[39m)\n",
      "File \u001B[1;32m~\\AppData\\Local\\Programs\\Python\\Python39\\lib\\site-packages\\pandas\\core\\indexes\\base.py:3942\u001B[0m, in \u001B[0;36mIndex.get_indexer\u001B[1;34m(self, target, method, limit, tolerance)\u001B[0m\n\u001B[0;32m   3937\u001B[0m     target \u001B[38;5;241m=\u001B[39m target\u001B[38;5;241m.\u001B[39mastype(dtype, copy\u001B[38;5;241m=\u001B[39m\u001B[38;5;28;01mFalse\u001B[39;00m)\n\u001B[0;32m   3938\u001B[0m     \u001B[38;5;28;01mreturn\u001B[39;00m this\u001B[38;5;241m.\u001B[39m_get_indexer(\n\u001B[0;32m   3939\u001B[0m         target, method\u001B[38;5;241m=\u001B[39mmethod, limit\u001B[38;5;241m=\u001B[39mlimit, tolerance\u001B[38;5;241m=\u001B[39mtolerance\n\u001B[0;32m   3940\u001B[0m     )\n\u001B[1;32m-> 3942\u001B[0m \u001B[38;5;28;01mreturn\u001B[39;00m \u001B[38;5;28;43mself\u001B[39;49m\u001B[38;5;241;43m.\u001B[39;49m\u001B[43m_get_indexer\u001B[49m\u001B[43m(\u001B[49m\u001B[43mtarget\u001B[49m\u001B[43m,\u001B[49m\u001B[43m \u001B[49m\u001B[43mmethod\u001B[49m\u001B[43m,\u001B[49m\u001B[43m \u001B[49m\u001B[43mlimit\u001B[49m\u001B[43m,\u001B[49m\u001B[43m \u001B[49m\u001B[43mtolerance\u001B[49m\u001B[43m)\u001B[49m\n",
      "File \u001B[1;32m~\\AppData\\Local\\Programs\\Python\\Python39\\lib\\site-packages\\pandas\\core\\indexes\\base.py:3969\u001B[0m, in \u001B[0;36mIndex._get_indexer\u001B[1;34m(self, target, method, limit, tolerance)\u001B[0m\n\u001B[0;32m   3966\u001B[0m     \u001B[38;5;28;01melse\u001B[39;00m:\n\u001B[0;32m   3967\u001B[0m         tgt_values \u001B[38;5;241m=\u001B[39m target\u001B[38;5;241m.\u001B[39m_get_engine_target()\n\u001B[1;32m-> 3969\u001B[0m     indexer \u001B[38;5;241m=\u001B[39m \u001B[38;5;28;43mself\u001B[39;49m\u001B[38;5;241;43m.\u001B[39;49m\u001B[43m_engine\u001B[49m\u001B[38;5;241;43m.\u001B[39;49m\u001B[43mget_indexer\u001B[49m\u001B[43m(\u001B[49m\u001B[43mtgt_values\u001B[49m\u001B[43m)\u001B[49m\n\u001B[0;32m   3971\u001B[0m \u001B[38;5;28;01mreturn\u001B[39;00m ensure_platform_int(indexer)\n",
      "File \u001B[1;32mindex.pyx:336\u001B[0m, in \u001B[0;36mpandas._libs.index.IndexEngine.get_indexer\u001B[1;34m()\u001B[0m\n",
      "File \u001B[1;32mpandas\\_libs\\hashtable_class_helper.pxi:2730\u001B[0m, in \u001B[0;36mpandas._libs.hashtable.Int64HashTable.lookup\u001B[1;34m()\u001B[0m\n",
      "\u001B[1;31mMemoryError\u001B[0m: Unable to allocate 976. MiB for an array with shape (127922215,) and data type int64"
     ]
    }
   ],
   "source": [
    "# Deleting the rows\n",
    "# 3 hour buffer\n",
    "buffer = 12*180\n",
    "for delete_tuple in rows_to_delete:\n",
    "    merged_data.drop(range(delete_tuple[0] + buffer, delete_tuple[1] - buffer - 1), inplace=True)\n",
    "merged_data.head(50)"
   ],
   "metadata": {
    "collapsed": false
   }
  },
  {
   "cell_type": "code",
   "execution_count": 100,
   "outputs": [
    {
     "name": "stdout",
     "output_type": "stream",
     "text": [
      "sleep\n"
     ]
    }
   ],
   "source": [
    "for wakeup, onset in rows_to_delete:\n",
    "    merged_data.at[wakeup+1, 'event'] = 'woke'\n",
    "    merged_data.at[onset+1, 'event'] = 'sleep'\n",
    "print(merged_data.at[rows_to_delete[0][1] + 1, 'event'])"
   ],
   "metadata": {
    "collapsed": false
   }
  },
  {
   "cell_type": "code",
   "execution_count": null,
   "outputs": [],
   "source": [],
   "metadata": {
    "collapsed": false
   }
  }
 ],
 "metadata": {
  "kernelspec": {
   "display_name": "Python 3 (ipykernel)",
   "language": "python",
   "name": "python3"
  },
  "language_info": {
   "codemirror_mode": {
    "name": "ipython",
    "version": 3
   },
   "file_extension": ".py",
   "mimetype": "text/x-python",
   "name": "python",
   "nbconvert_exporter": "python",
   "pygments_lexer": "ipython3",
   "version": "3.9.12"
  }
 },
 "nbformat": 4,
 "nbformat_minor": 5
}
