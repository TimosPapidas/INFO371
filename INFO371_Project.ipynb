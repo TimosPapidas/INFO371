{
 "cells": [
  {
   "cell_type": "markdown",
   "source": [
    "# INFO-371 Final Project\n",
    "\n",
    "This is our final project which attempts to predict which events in a participant's accelerometer data signals\n",
    "the beginning and end of sleep. Over the course of many nights, accelerometer data is collected from a worn\n",
    "device on the participant's wrist at every moment of the day. Sleep scientists then annotate this data with\n",
    "events labeled \"onset\", signaling the participant has begun sleeping, or \"wakeup\", signaling the participant\n",
    "has just awoken.\n",
    "\n",
    "By analysing this time series data, in this notebook we create a prediction model using data mining and machine\n",
    "learning."
   ],
   "metadata": {
    "collapsed": false
   }
  },
  {
   "cell_type": "code",
   "execution_count": 1,
   "id": "317748af",
   "metadata": {},
   "outputs": [],
   "source": [
    "#Imports\n",
    "import os\n",
    "import pandas as pd\n",
    "import pathlib\n",
    "import pyarrow as pa"
   ]
  },
  {
   "cell_type": "code",
   "execution_count": 2,
   "outputs": [],
   "source": [
    "# Load the data from our local directory\n",
    "input_data_dir = os.path.join(os.path.realpath(pathlib.Path().cwd()), 'input_data')"
   ],
   "metadata": {
    "collapsed": false
   }
  },
  {
   "cell_type": "code",
   "execution_count": 3,
   "outputs": [
    {
     "data": {
      "text/plain": "          series_id  night   event    step\n0      038441c925bb      1   onset    4992\n1      038441c925bb      1  wakeup   10932\n2      038441c925bb      2   onset   20244\n3      038441c925bb      2  wakeup   27492\n4      038441c925bb      3   onset   39996\n...             ...    ...     ...     ...\n14501  fe90110788d2     32  wakeup  547152\n14502  fe90110788d2     33   onset  556560\n14503  fe90110788d2     33  wakeup  560604\n14504  fe90110788d2     34   onset  574620\n14505  fe90110788d2     34  wakeup  581604\n\n[9585 rows x 4 columns]",
      "text/html": "<div>\n<style scoped>\n    .dataframe tbody tr th:only-of-type {\n        vertical-align: middle;\n    }\n\n    .dataframe tbody tr th {\n        vertical-align: top;\n    }\n\n    .dataframe thead th {\n        text-align: right;\n    }\n</style>\n<table border=\"1\" class=\"dataframe\">\n  <thead>\n    <tr style=\"text-align: right;\">\n      <th></th>\n      <th>series_id</th>\n      <th>night</th>\n      <th>event</th>\n      <th>step</th>\n    </tr>\n  </thead>\n  <tbody>\n    <tr>\n      <th>0</th>\n      <td>038441c925bb</td>\n      <td>1</td>\n      <td>onset</td>\n      <td>4992</td>\n    </tr>\n    <tr>\n      <th>1</th>\n      <td>038441c925bb</td>\n      <td>1</td>\n      <td>wakeup</td>\n      <td>10932</td>\n    </tr>\n    <tr>\n      <th>2</th>\n      <td>038441c925bb</td>\n      <td>2</td>\n      <td>onset</td>\n      <td>20244</td>\n    </tr>\n    <tr>\n      <th>3</th>\n      <td>038441c925bb</td>\n      <td>2</td>\n      <td>wakeup</td>\n      <td>27492</td>\n    </tr>\n    <tr>\n      <th>4</th>\n      <td>038441c925bb</td>\n      <td>3</td>\n      <td>onset</td>\n      <td>39996</td>\n    </tr>\n    <tr>\n      <th>...</th>\n      <td>...</td>\n      <td>...</td>\n      <td>...</td>\n      <td>...</td>\n    </tr>\n    <tr>\n      <th>14501</th>\n      <td>fe90110788d2</td>\n      <td>32</td>\n      <td>wakeup</td>\n      <td>547152</td>\n    </tr>\n    <tr>\n      <th>14502</th>\n      <td>fe90110788d2</td>\n      <td>33</td>\n      <td>onset</td>\n      <td>556560</td>\n    </tr>\n    <tr>\n      <th>14503</th>\n      <td>fe90110788d2</td>\n      <td>33</td>\n      <td>wakeup</td>\n      <td>560604</td>\n    </tr>\n    <tr>\n      <th>14504</th>\n      <td>fe90110788d2</td>\n      <td>34</td>\n      <td>onset</td>\n      <td>574620</td>\n    </tr>\n    <tr>\n      <th>14505</th>\n      <td>fe90110788d2</td>\n      <td>34</td>\n      <td>wakeup</td>\n      <td>581604</td>\n    </tr>\n  </tbody>\n</table>\n<p>9585 rows × 4 columns</p>\n</div>"
     },
     "execution_count": 3,
     "metadata": {},
     "output_type": "execute_result"
    }
   ],
   "source": [
    "# Transform the train_events dataset types\n",
    "train_events = pd.read_csv(\n",
    "    os.path.join(input_data_dir, 'train_events.csv'),\n",
    "    usecols=['series_id', 'event', 'step', 'night']\n",
    ")\n",
    "train_events.dropna(inplace=True)\n",
    "train_events['step'] = train_events['step'].astype(int)\n",
    "train_events['event'] = train_events['event'].astype('category')\n",
    "train_events.sort_values(by=['series_id', 'night'])"
   ],
   "metadata": {
    "collapsed": false
   }
  },
  {
   "cell_type": "code",
   "execution_count": 4,
   "outputs": [],
   "source": [
    "# Load the series data\n",
    "train_series = pd.read_parquet(\n",
    "    os.path.join(input_data_dir, 'train_series.parquet'),\n",
    "    columns=[\"series_id\", \"step\", \"anglez\", \"enmo\"]\n",
    ")"
   ],
   "metadata": {
    "collapsed": false
   }
  },
  {
   "cell_type": "code",
   "execution_count": 5,
   "outputs": [
    {
     "data": {
      "text/plain": "      series_id  step  anglez    enmo\n0  038441c925bb     0  2.6367  0.0217\n1  038441c925bb     1  2.6368  0.0215\n2  038441c925bb     2  2.6370  0.0216\n3  038441c925bb     3  2.6368  0.0213\n4  038441c925bb     4  2.6368  0.0215",
      "text/html": "<div>\n<style scoped>\n    .dataframe tbody tr th:only-of-type {\n        vertical-align: middle;\n    }\n\n    .dataframe tbody tr th {\n        vertical-align: top;\n    }\n\n    .dataframe thead th {\n        text-align: right;\n    }\n</style>\n<table border=\"1\" class=\"dataframe\">\n  <thead>\n    <tr style=\"text-align: right;\">\n      <th></th>\n      <th>series_id</th>\n      <th>step</th>\n      <th>anglez</th>\n      <th>enmo</th>\n    </tr>\n  </thead>\n  <tbody>\n    <tr>\n      <th>0</th>\n      <td>038441c925bb</td>\n      <td>0</td>\n      <td>2.6367</td>\n      <td>0.0217</td>\n    </tr>\n    <tr>\n      <th>1</th>\n      <td>038441c925bb</td>\n      <td>1</td>\n      <td>2.6368</td>\n      <td>0.0215</td>\n    </tr>\n    <tr>\n      <th>2</th>\n      <td>038441c925bb</td>\n      <td>2</td>\n      <td>2.6370</td>\n      <td>0.0216</td>\n    </tr>\n    <tr>\n      <th>3</th>\n      <td>038441c925bb</td>\n      <td>3</td>\n      <td>2.6368</td>\n      <td>0.0213</td>\n    </tr>\n    <tr>\n      <th>4</th>\n      <td>038441c925bb</td>\n      <td>4</td>\n      <td>2.6368</td>\n      <td>0.0215</td>\n    </tr>\n  </tbody>\n</table>\n</div>"
     },
     "execution_count": 5,
     "metadata": {},
     "output_type": "execute_result"
    }
   ],
   "source": [
    "train_series.head(5)"
   ],
   "metadata": {
    "collapsed": false
   }
  },
  {
   "cell_type": "code",
   "execution_count": 6,
   "outputs": [],
   "source": [
    "# Merge the two data frames\n",
    "merged_data = pd.merge_ordered(train_series, train_events, on=['series_id', 'step'])\n",
    "merged_data['event'] = merged_data['event'].astype('category')\n",
    "merged_data['series_id'] = merged_data['series_id'].astype('category')"
   ],
   "metadata": {
    "collapsed": false
   }
  },
  {
   "cell_type": "code",
   "execution_count": 7,
   "outputs": [
    {
     "data": {
      "text/plain": "          series_id   step     anglez    enmo night  event\n10908  038441c925bb  10908   -63.0564  0.0206   NaN  sleep\n10909  038441c925bb  10909 -63.177898  0.0203   NaN  sleep\n10910  038441c925bb  10910 -63.108101  0.0206   NaN  sleep\n10911  038441c925bb  10911 -63.192501  0.0201   NaN  sleep\n10912  038441c925bb  10912    -63.139  0.0206   NaN  sleep\n...             ...    ...        ...     ...   ...    ...\n13088  038441c925bb  13088     3.0795  0.2188   NaN  awake\n13089  038441c925bb  13089   -23.1852  0.2995   NaN  awake\n13090  038441c925bb  13090   -21.6586  0.2878   NaN  awake\n13091  038441c925bb  13091 -22.790899  0.4395   NaN  awake\n13092  038441c925bb  13092    29.0469  0.2643   NaN  awake\n\n[2185 rows x 6 columns]",
      "text/html": "<div>\n<style scoped>\n    .dataframe tbody tr th:only-of-type {\n        vertical-align: middle;\n    }\n\n    .dataframe tbody tr th {\n        vertical-align: top;\n    }\n\n    .dataframe thead th {\n        text-align: right;\n    }\n</style>\n<table border=\"1\" class=\"dataframe\">\n  <thead>\n    <tr style=\"text-align: right;\">\n      <th></th>\n      <th>series_id</th>\n      <th>step</th>\n      <th>anglez</th>\n      <th>enmo</th>\n      <th>night</th>\n      <th>event</th>\n    </tr>\n  </thead>\n  <tbody>\n    <tr>\n      <th>10908</th>\n      <td>038441c925bb</td>\n      <td>10908</td>\n      <td>-63.0564</td>\n      <td>0.0206</td>\n      <td>NaN</td>\n      <td>sleep</td>\n    </tr>\n    <tr>\n      <th>10909</th>\n      <td>038441c925bb</td>\n      <td>10909</td>\n      <td>-63.177898</td>\n      <td>0.0203</td>\n      <td>NaN</td>\n      <td>sleep</td>\n    </tr>\n    <tr>\n      <th>10910</th>\n      <td>038441c925bb</td>\n      <td>10910</td>\n      <td>-63.108101</td>\n      <td>0.0206</td>\n      <td>NaN</td>\n      <td>sleep</td>\n    </tr>\n    <tr>\n      <th>10911</th>\n      <td>038441c925bb</td>\n      <td>10911</td>\n      <td>-63.192501</td>\n      <td>0.0201</td>\n      <td>NaN</td>\n      <td>sleep</td>\n    </tr>\n    <tr>\n      <th>10912</th>\n      <td>038441c925bb</td>\n      <td>10912</td>\n      <td>-63.139</td>\n      <td>0.0206</td>\n      <td>NaN</td>\n      <td>sleep</td>\n    </tr>\n    <tr>\n      <th>...</th>\n      <td>...</td>\n      <td>...</td>\n      <td>...</td>\n      <td>...</td>\n      <td>...</td>\n      <td>...</td>\n    </tr>\n    <tr>\n      <th>13088</th>\n      <td>038441c925bb</td>\n      <td>13088</td>\n      <td>3.0795</td>\n      <td>0.2188</td>\n      <td>NaN</td>\n      <td>awake</td>\n    </tr>\n    <tr>\n      <th>13089</th>\n      <td>038441c925bb</td>\n      <td>13089</td>\n      <td>-23.1852</td>\n      <td>0.2995</td>\n      <td>NaN</td>\n      <td>awake</td>\n    </tr>\n    <tr>\n      <th>13090</th>\n      <td>038441c925bb</td>\n      <td>13090</td>\n      <td>-21.6586</td>\n      <td>0.2878</td>\n      <td>NaN</td>\n      <td>awake</td>\n    </tr>\n    <tr>\n      <th>13091</th>\n      <td>038441c925bb</td>\n      <td>13091</td>\n      <td>-22.790899</td>\n      <td>0.4395</td>\n      <td>NaN</td>\n      <td>awake</td>\n    </tr>\n    <tr>\n      <th>13092</th>\n      <td>038441c925bb</td>\n      <td>13092</td>\n      <td>29.0469</td>\n      <td>0.2643</td>\n      <td>NaN</td>\n      <td>awake</td>\n    </tr>\n  </tbody>\n</table>\n<p>2185 rows × 6 columns</p>\n</div>"
     },
     "execution_count": 7,
     "metadata": {},
     "output_type": "execute_result"
    }
   ],
   "source": [
    "# uncomment to test selecting data from the merge table for a specific ID and range of steps\n",
    "# 12 steps per minute * 60 min/hr * 3hr\n",
    "three_hours = 12 * 180\n",
    "start = train_events.at[0, 'step']\n",
    "mod_start = start - three_hours - 6\n",
    "stop = train_events.at[1, 'step']\n",
    "mod_stop = stop + three_hours\n",
    "single_day = merged_data[\n",
    "    (merged_data.series_id == '038441c925bb') &\n",
    "    (merged_data.step >= mod_start) &\n",
    "    (merged_data.step <= mod_stop)\n",
    "]\n",
    "\n",
    "def fill_event_per_row(row):\n",
    "    if start < row.step and row.step < stop:\n",
    "        row.event = \"sleep\"\n",
    "    if start > row.step or stop < row.step:\n",
    "        row.event = \"awake\"\n",
    "    return row\n",
    "\n",
    "# uncomment to test replacing empty event data in the merge table\n",
    "single_day = single_day.apply(fill_event_per_row, axis='columns', result_type='broadcast')\n",
    "single_day.tail(int(three_hours + 25))"
   ],
   "metadata": {
    "collapsed": false
   }
  },
  {
   "cell_type": "code",
   "execution_count": 8,
   "outputs": [
    {
     "data": {
      "text/plain": "         series_id  step     anglez    enmo night  event\n2826  038441c925bb  2826    -1.2445  0.0465   NaN  awake\n2827  038441c925bb  2827   -38.2528  0.0831   NaN  awake\n2828  038441c925bb  2828    -7.1711  0.0373   NaN  awake\n2829  038441c925bb  2829     4.8734  0.0188   NaN  awake\n2830  038441c925bb  2830   -15.3135   0.073   NaN  awake\n...            ...   ...        ...     ...   ...    ...\n5006  038441c925bb  5006   -62.7841  0.0065   NaN  sleep\n5007  038441c925bb  5007 -63.420502  0.0061   NaN  sleep\n5008  038441c925bb  5008 -64.812202  0.0058   NaN  sleep\n5009  038441c925bb  5009 -64.928902  0.0056   NaN  sleep\n5010  038441c925bb  5010   -64.8545  0.0057   NaN  sleep\n\n[2185 rows x 6 columns]",
      "text/html": "<div>\n<style scoped>\n    .dataframe tbody tr th:only-of-type {\n        vertical-align: middle;\n    }\n\n    .dataframe tbody tr th {\n        vertical-align: top;\n    }\n\n    .dataframe thead th {\n        text-align: right;\n    }\n</style>\n<table border=\"1\" class=\"dataframe\">\n  <thead>\n    <tr style=\"text-align: right;\">\n      <th></th>\n      <th>series_id</th>\n      <th>step</th>\n      <th>anglez</th>\n      <th>enmo</th>\n      <th>night</th>\n      <th>event</th>\n    </tr>\n  </thead>\n  <tbody>\n    <tr>\n      <th>2826</th>\n      <td>038441c925bb</td>\n      <td>2826</td>\n      <td>-1.2445</td>\n      <td>0.0465</td>\n      <td>NaN</td>\n      <td>awake</td>\n    </tr>\n    <tr>\n      <th>2827</th>\n      <td>038441c925bb</td>\n      <td>2827</td>\n      <td>-38.2528</td>\n      <td>0.0831</td>\n      <td>NaN</td>\n      <td>awake</td>\n    </tr>\n    <tr>\n      <th>2828</th>\n      <td>038441c925bb</td>\n      <td>2828</td>\n      <td>-7.1711</td>\n      <td>0.0373</td>\n      <td>NaN</td>\n      <td>awake</td>\n    </tr>\n    <tr>\n      <th>2829</th>\n      <td>038441c925bb</td>\n      <td>2829</td>\n      <td>4.8734</td>\n      <td>0.0188</td>\n      <td>NaN</td>\n      <td>awake</td>\n    </tr>\n    <tr>\n      <th>2830</th>\n      <td>038441c925bb</td>\n      <td>2830</td>\n      <td>-15.3135</td>\n      <td>0.073</td>\n      <td>NaN</td>\n      <td>awake</td>\n    </tr>\n    <tr>\n      <th>...</th>\n      <td>...</td>\n      <td>...</td>\n      <td>...</td>\n      <td>...</td>\n      <td>...</td>\n      <td>...</td>\n    </tr>\n    <tr>\n      <th>5006</th>\n      <td>038441c925bb</td>\n      <td>5006</td>\n      <td>-62.7841</td>\n      <td>0.0065</td>\n      <td>NaN</td>\n      <td>sleep</td>\n    </tr>\n    <tr>\n      <th>5007</th>\n      <td>038441c925bb</td>\n      <td>5007</td>\n      <td>-63.420502</td>\n      <td>0.0061</td>\n      <td>NaN</td>\n      <td>sleep</td>\n    </tr>\n    <tr>\n      <th>5008</th>\n      <td>038441c925bb</td>\n      <td>5008</td>\n      <td>-64.812202</td>\n      <td>0.0058</td>\n      <td>NaN</td>\n      <td>sleep</td>\n    </tr>\n    <tr>\n      <th>5009</th>\n      <td>038441c925bb</td>\n      <td>5009</td>\n      <td>-64.928902</td>\n      <td>0.0056</td>\n      <td>NaN</td>\n      <td>sleep</td>\n    </tr>\n    <tr>\n      <th>5010</th>\n      <td>038441c925bb</td>\n      <td>5010</td>\n      <td>-64.8545</td>\n      <td>0.0057</td>\n      <td>NaN</td>\n      <td>sleep</td>\n    </tr>\n  </tbody>\n</table>\n<p>2185 rows × 6 columns</p>\n</div>"
     },
     "execution_count": 8,
     "metadata": {},
     "output_type": "execute_result"
    }
   ],
   "source": [
    "single_day.head(int(three_hours + 25))"
   ],
   "metadata": {
    "collapsed": false
   }
  },
  {
   "cell_type": "code",
   "execution_count": 41,
   "outputs": [
    {
     "ename": "StopIteration",
     "evalue": "",
     "output_type": "error",
     "traceback": [
      "\u001B[0;31m---------------------------------------------------------------------------\u001B[0m",
      "\u001B[0;31mStopIteration\u001B[0m                             Traceback (most recent call last)",
      "Cell \u001B[0;32mIn[41], line 24\u001B[0m\n\u001B[1;32m     22\u001B[0m series_id \u001B[38;5;241m=\u001B[39m onset_event\u001B[38;5;241m.\u001B[39mseries_id\n\u001B[1;32m     23\u001B[0m onset_night \u001B[38;5;241m=\u001B[39m onset_event\u001B[38;5;241m.\u001B[39mnight\n\u001B[0;32m---> 24\u001B[0m wakeup_event \u001B[38;5;241m=\u001B[39m \u001B[38;5;28;43mnext\u001B[39;49m\u001B[43m(\u001B[49m\u001B[43mevents\u001B[49m\u001B[43m)\u001B[49m \u001B[38;5;66;03m# calling next() prevents `for` from looping over 'wakeup' events\u001B[39;00m\n\u001B[1;32m     25\u001B[0m wakeup_id \u001B[38;5;241m=\u001B[39m wakeup_event\u001B[38;5;241m.\u001B[39mseries_id\n\u001B[1;32m     26\u001B[0m wakeup_night \u001B[38;5;241m=\u001B[39m wakeup_event\u001B[38;5;241m.\u001B[39mnight\n",
      "\u001B[0;31mStopIteration\u001B[0m: "
     ]
    }
   ],
   "source": [
    "# 12 steps per minute * 60 min/hr * 3hr\n",
    "three_hours = 12 * 180\n",
    "\n",
    "def data_by_series_id_start_stop(series_id, start, stop):\n",
    "    data = merged_data[\n",
    "        (merged_data.series_id == series_id) &\n",
    "        (merged_data.step >= mod_start) &\n",
    "        (merged_data.step <= mod_stop)\n",
    "    ]\n",
    "    def fill_event_per_row(row):\n",
    "        if start < row.step and row.step < stop:\n",
    "            row.event = \"sleep\"\n",
    "        if start > row.step or stop < row.step:\n",
    "            row.event = \"awake\"\n",
    "        return row\n",
    "    return data.apply(fill_event_per_row, axis='columns', result_type='broadcast')\n",
    "\n",
    "\n",
    "step_range_lists = {}\n",
    "events = train_events.itertuples()\n",
    "for onset_event in events:\n",
    "    series_id = onset_event.series_id\n",
    "    onset_night = onset_event.night\n",
    "    wakeup_event = next(events) # calling next() prevents `for` from looping over 'wakeup' events\n",
    "    wakeup_id = wakeup_event.series_id\n",
    "    wakeup_night = wakeup_event.night\n",
    "    start = onset_event.step\n",
    "    stop = wakeup_event.step\n",
    "\n",
    "    if not step_range_lists.get(series_id):\n",
    "        step_range_lists[series_id] = []\n",
    "\n",
    "    if onset_night == wakeup_night and series_id == wakeup_id:\n",
    "        step_range_lists[series_id].append((start, stop))\n",
    "\n",
    "print(step_range_lists['038441c925bb'])"
   ],
   "metadata": {
    "collapsed": false
   }
  },
  {
   "cell_type": "code",
   "execution_count": 72,
   "outputs": [
    {
     "data": {
      "text/plain": "series_id     object\nstep          uint32\nanglez       float32\nenmo         float32\nevent         object\ndtype: object"
     },
     "execution_count": 72,
     "metadata": {},
     "output_type": "execute_result"
    }
   ],
   "source": [
    "merged_data.dtypes"
   ],
   "metadata": {
    "collapsed": false
   }
  }
 ],
 "metadata": {
  "kernelspec": {
   "display_name": "Python 3 (ipykernel)",
   "language": "python",
   "name": "python3"
  },
  "language_info": {
   "codemirror_mode": {
    "name": "ipython",
    "version": 3
   },
   "file_extension": ".py",
   "mimetype": "text/x-python",
   "name": "python",
   "nbconvert_exporter": "python",
   "pygments_lexer": "ipython3",
   "version": "3.9.12"
  }
 },
 "nbformat": 4,
 "nbformat_minor": 5
}
