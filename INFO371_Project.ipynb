{
 "cells": [
  {
   "cell_type": "markdown",
   "source": [
    "# INFO-371 Final Project\n",
    "\n",
    "This is our final project which attempts to predict which events in a participant's accelerometer data signals\n",
    "the beginning and end of sleep. Over the course of many nights, accelerometer data is collected from a worn\n",
    "device on the participant's wrist at every moment of the day. Sleep scientists then annotate this data with\n",
    "events labeled \"onset\", signaling the participant has begun sleeping, or \"wakeup\", signaling the participant\n",
    "has just awoken.\n",
    "\n",
    "By analysing this time series data, in this notebook we create a prediction model using data mining and machine\n",
    "learning."
   ],
   "metadata": {
    "collapsed": false
   }
  },
  {
   "cell_type": "code",
   "execution_count": 50,
   "id": "317748af",
   "metadata": {},
   "outputs": [],
   "source": [
    "#Imports\n",
    "import os\n",
    "import pandas as pd\n",
    "import pathlib\n",
    "import pyarrow as pa"
   ]
  },
  {
   "cell_type": "code",
   "execution_count": 51,
   "outputs": [],
   "source": [
    "# Load the data from our local directory\n",
    "input_data_dir = os.path.join(os.path.realpath(pathlib.Path().cwd()), 'input_data')"
   ],
   "metadata": {
    "collapsed": false
   }
  },
  {
   "cell_type": "code",
   "execution_count": 86,
   "outputs": [
    {
     "data": {
      "text/plain": "         series_id  night   event    step\n0     038441c925bb      1   onset    4992\n1     038441c925bb      1  wakeup   10932\n2     038441c925bb      2   onset   20244\n3     038441c925bb      2  wakeup   27492\n4     038441c925bb      3   onset   39996\n...            ...    ...     ...     ...\n9580  fe90110788d2     32  wakeup  547152\n9581  fe90110788d2     33   onset  556560\n9582  fe90110788d2     33  wakeup  560604\n9583  fe90110788d2     34   onset  574620\n9584  fe90110788d2     34  wakeup  581604\n\n[9580 rows x 4 columns]",
      "text/html": "<div>\n<style scoped>\n    .dataframe tbody tr th:only-of-type {\n        vertical-align: middle;\n    }\n\n    .dataframe tbody tr th {\n        vertical-align: top;\n    }\n\n    .dataframe thead th {\n        text-align: right;\n    }\n</style>\n<table border=\"1\" class=\"dataframe\">\n  <thead>\n    <tr style=\"text-align: right;\">\n      <th></th>\n      <th>series_id</th>\n      <th>night</th>\n      <th>event</th>\n      <th>step</th>\n    </tr>\n  </thead>\n  <tbody>\n    <tr>\n      <th>0</th>\n      <td>038441c925bb</td>\n      <td>1</td>\n      <td>onset</td>\n      <td>4992</td>\n    </tr>\n    <tr>\n      <th>1</th>\n      <td>038441c925bb</td>\n      <td>1</td>\n      <td>wakeup</td>\n      <td>10932</td>\n    </tr>\n    <tr>\n      <th>2</th>\n      <td>038441c925bb</td>\n      <td>2</td>\n      <td>onset</td>\n      <td>20244</td>\n    </tr>\n    <tr>\n      <th>3</th>\n      <td>038441c925bb</td>\n      <td>2</td>\n      <td>wakeup</td>\n      <td>27492</td>\n    </tr>\n    <tr>\n      <th>4</th>\n      <td>038441c925bb</td>\n      <td>3</td>\n      <td>onset</td>\n      <td>39996</td>\n    </tr>\n    <tr>\n      <th>...</th>\n      <td>...</td>\n      <td>...</td>\n      <td>...</td>\n      <td>...</td>\n    </tr>\n    <tr>\n      <th>9580</th>\n      <td>fe90110788d2</td>\n      <td>32</td>\n      <td>wakeup</td>\n      <td>547152</td>\n    </tr>\n    <tr>\n      <th>9581</th>\n      <td>fe90110788d2</td>\n      <td>33</td>\n      <td>onset</td>\n      <td>556560</td>\n    </tr>\n    <tr>\n      <th>9582</th>\n      <td>fe90110788d2</td>\n      <td>33</td>\n      <td>wakeup</td>\n      <td>560604</td>\n    </tr>\n    <tr>\n      <th>9583</th>\n      <td>fe90110788d2</td>\n      <td>34</td>\n      <td>onset</td>\n      <td>574620</td>\n    </tr>\n    <tr>\n      <th>9584</th>\n      <td>fe90110788d2</td>\n      <td>34</td>\n      <td>wakeup</td>\n      <td>581604</td>\n    </tr>\n  </tbody>\n</table>\n<p>9580 rows × 4 columns</p>\n</div>"
     },
     "execution_count": 86,
     "metadata": {},
     "output_type": "execute_result"
    }
   ],
   "source": [
    "# Transform the train_events dataset types\n",
    "train_events = pd.read_csv(\n",
    "    os.path.join(input_data_dir, 'train_events.csv'),\n",
    "    usecols=['series_id', 'event', 'step', 'night']\n",
    ")\n",
    "train_events.dropna(inplace=True)\n",
    "train_events.reset_index(inplace = True, drop=True)\n",
    "train_events['step'] = train_events['step'].astype(int)\n",
    "# train_events['event'] = train_events['event'].astype('category')\n",
    "\n",
    "rows_to_delete = []\n",
    "\n",
    "for index, row in train_events.iterrows():\n",
    "    delete = True\n",
    "    if index > 0:\n",
    "        previous_row = train_events.iloc[index - 1]\n",
    "        if previous_row['night'] == row['night'] and previous_row['event'] != row['event']:\n",
    "            delete = False\n",
    "\n",
    "    if index < len(train_events) - 1:\n",
    "        next_row = train_events.iloc[index + 1]\n",
    "        if next_row['night'] == row['night'] and next_row['event'] != row['event']:\n",
    "            delete = False\n",
    "    if delete:\n",
    "        rows_to_delete.append(index)\n",
    "\n",
    "# Drop rows by their indices\n",
    "train_events.drop(rows_to_delete, inplace=True)\n",
    "train_events.sort_values(by=['series_id', 'night'])"
   ],
   "metadata": {
    "collapsed": false
   }
  },
  {
   "cell_type": "code",
   "execution_count": 64,
   "outputs": [
    {
     "name": "stdout",
     "output_type": "stream",
     "text": [
      "[310, 957, 2668, 9099, 9352]\n"
     ]
    }
   ],
   "source": [
    "print(rows_to_delete)"
   ],
   "metadata": {
    "collapsed": false
   }
  },
  {
   "cell_type": "code",
   "execution_count": 87,
   "outputs": [],
   "source": [
    "# Load the series data\n",
    "train_series = pd.read_parquet(\n",
    "    os.path.join(input_data_dir, 'train_series.parquet'),\n",
    "    columns=[\"series_id\", \"step\", \"anglez\", \"enmo\"]\n",
    ")"
   ],
   "metadata": {
    "collapsed": false
   }
  },
  {
   "cell_type": "code",
   "execution_count": 88,
   "outputs": [],
   "source": [
    "# Merge the two data frames\n",
    "merged_data = pd.merge_ordered(train_series, train_events, on=['series_id', 'step'])\n",
    "# merged_data['event'] = merged_data['event'].astype('category')\n",
    "merged_data['series_id'] = merged_data['series_id'].astype('category')"
   ],
   "metadata": {
    "collapsed": false
   }
  },
  {
   "cell_type": "code",
   "execution_count": 77,
   "outputs": [
    {
     "data": {
      "text/plain": "'03d92c9f6f8a'"
     },
     "execution_count": 77,
     "metadata": {},
     "output_type": "execute_result"
    }
   ],
   "source": [
    "merged_data.at[390000, 'series_id']"
   ],
   "metadata": {
    "collapsed": false
   }
  },
  {
   "cell_type": "code",
   "execution_count": 113,
   "outputs": [
    {
     "data": {
      "text/plain": "       series_id  step     anglez    enmo  night event  d1_enmo  d1_anglez  \\\n0   038441c925bb     0   2.636700  0.0217    NaN   NaN      NaN        NaN   \n1   038441c925bb     1   2.636800  0.0215    NaN   NaN  -0.0002   0.000100   \n2   038441c925bb     2   2.637000  0.0216    NaN   NaN   0.0001   0.000200   \n3   038441c925bb     3   2.636800  0.0213    NaN   NaN  -0.0003  -0.000200   \n4   038441c925bb     4   2.636800  0.0215    NaN   NaN   0.0002   0.000000   \n5   038441c925bb     5   2.636700  0.0217    NaN   NaN   0.0002  -0.000100   \n6   038441c925bb     6   2.636700  0.0217    NaN   NaN   0.0000   0.000000   \n7   038441c925bb     7   2.636700  0.0218    NaN   NaN   0.0001   0.000000   \n8   038441c925bb     8   2.798000  0.0223    NaN   NaN   0.0005   0.161300   \n9   038441c925bb     9   3.084700  0.0217    NaN   NaN  -0.0006   0.286700   \n10  038441c925bb    10   2.780200  0.0229    NaN   NaN   0.0012  -0.304500   \n11  038441c925bb    11   2.520500  0.0216    NaN   NaN  -0.0013  -0.259700   \n12  038441c925bb    12   2.412900  0.0218    NaN   NaN   0.0002  -0.107600   \n13  038441c925bb    13   2.412900  0.0214    NaN   NaN  -0.0004   0.000000   \n14  038441c925bb    14   2.412900  0.0214    NaN   NaN   0.0000   0.000000   \n15  038441c925bb    15   2.412900  0.0214    NaN   NaN   0.0000   0.000000   \n16  038441c925bb    16   2.412900  0.0215    NaN   NaN   0.0001   0.000000   \n17  038441c925bb    17   2.413200  0.0217    NaN   NaN   0.0002   0.000300   \n18  038441c925bb    18  49.874401  0.0395    NaN   NaN   0.0178  47.461201   \n19  038441c925bb    19  54.849800  0.0166    NaN   NaN  -0.0229   4.975399   \n20  038441c925bb    20  44.099300  0.0170    NaN   NaN   0.0004 -10.750500   \n21  038441c925bb    21  67.381302  0.0102    NaN   NaN  -0.0068  23.282001   \n22  038441c925bb    22  68.460503  0.0238    NaN   NaN   0.0136   1.079201   \n23  038441c925bb    23  37.721901  0.0070    NaN   NaN  -0.0168 -30.738602   \n24  038441c925bb    24  30.002501  0.0082    NaN   NaN   0.0012  -7.719400   \n\n    d6_enmo  d6_anglez  \n0       NaN        NaN  \n1       NaN        NaN  \n2       NaN        NaN  \n3       NaN        NaN  \n4       NaN        NaN  \n5       NaN        NaN  \n6    0.0000   0.000000  \n7    0.0003  -0.000100  \n8    0.0007   0.161000  \n9    0.0004   0.447900  \n10   0.0014   0.143400  \n11  -0.0001  -0.116200  \n12   0.0001  -0.223800  \n13  -0.0004  -0.223800  \n14  -0.0009  -0.385100  \n15  -0.0003  -0.671800  \n16  -0.0014  -0.367300  \n17   0.0001  -0.107300  \n18   0.0177  47.461502  \n19  -0.0048  52.436901  \n20  -0.0044  41.686401  \n21  -0.0112  64.968399  \n22   0.0023  66.047600  \n23  -0.0147  35.308701  \n24  -0.0313 -19.871901  ",
      "text/html": "<div>\n<style scoped>\n    .dataframe tbody tr th:only-of-type {\n        vertical-align: middle;\n    }\n\n    .dataframe tbody tr th {\n        vertical-align: top;\n    }\n\n    .dataframe thead th {\n        text-align: right;\n    }\n</style>\n<table border=\"1\" class=\"dataframe\">\n  <thead>\n    <tr style=\"text-align: right;\">\n      <th></th>\n      <th>series_id</th>\n      <th>step</th>\n      <th>anglez</th>\n      <th>enmo</th>\n      <th>night</th>\n      <th>event</th>\n      <th>d1_enmo</th>\n      <th>d1_anglez</th>\n      <th>d6_enmo</th>\n      <th>d6_anglez</th>\n    </tr>\n  </thead>\n  <tbody>\n    <tr>\n      <th>0</th>\n      <td>038441c925bb</td>\n      <td>0</td>\n      <td>2.636700</td>\n      <td>0.0217</td>\n      <td>NaN</td>\n      <td>NaN</td>\n      <td>NaN</td>\n      <td>NaN</td>\n      <td>NaN</td>\n      <td>NaN</td>\n    </tr>\n    <tr>\n      <th>1</th>\n      <td>038441c925bb</td>\n      <td>1</td>\n      <td>2.636800</td>\n      <td>0.0215</td>\n      <td>NaN</td>\n      <td>NaN</td>\n      <td>-0.0002</td>\n      <td>0.000100</td>\n      <td>NaN</td>\n      <td>NaN</td>\n    </tr>\n    <tr>\n      <th>2</th>\n      <td>038441c925bb</td>\n      <td>2</td>\n      <td>2.637000</td>\n      <td>0.0216</td>\n      <td>NaN</td>\n      <td>NaN</td>\n      <td>0.0001</td>\n      <td>0.000200</td>\n      <td>NaN</td>\n      <td>NaN</td>\n    </tr>\n    <tr>\n      <th>3</th>\n      <td>038441c925bb</td>\n      <td>3</td>\n      <td>2.636800</td>\n      <td>0.0213</td>\n      <td>NaN</td>\n      <td>NaN</td>\n      <td>-0.0003</td>\n      <td>-0.000200</td>\n      <td>NaN</td>\n      <td>NaN</td>\n    </tr>\n    <tr>\n      <th>4</th>\n      <td>038441c925bb</td>\n      <td>4</td>\n      <td>2.636800</td>\n      <td>0.0215</td>\n      <td>NaN</td>\n      <td>NaN</td>\n      <td>0.0002</td>\n      <td>0.000000</td>\n      <td>NaN</td>\n      <td>NaN</td>\n    </tr>\n    <tr>\n      <th>5</th>\n      <td>038441c925bb</td>\n      <td>5</td>\n      <td>2.636700</td>\n      <td>0.0217</td>\n      <td>NaN</td>\n      <td>NaN</td>\n      <td>0.0002</td>\n      <td>-0.000100</td>\n      <td>NaN</td>\n      <td>NaN</td>\n    </tr>\n    <tr>\n      <th>6</th>\n      <td>038441c925bb</td>\n      <td>6</td>\n      <td>2.636700</td>\n      <td>0.0217</td>\n      <td>NaN</td>\n      <td>NaN</td>\n      <td>0.0000</td>\n      <td>0.000000</td>\n      <td>0.0000</td>\n      <td>0.000000</td>\n    </tr>\n    <tr>\n      <th>7</th>\n      <td>038441c925bb</td>\n      <td>7</td>\n      <td>2.636700</td>\n      <td>0.0218</td>\n      <td>NaN</td>\n      <td>NaN</td>\n      <td>0.0001</td>\n      <td>0.000000</td>\n      <td>0.0003</td>\n      <td>-0.000100</td>\n    </tr>\n    <tr>\n      <th>8</th>\n      <td>038441c925bb</td>\n      <td>8</td>\n      <td>2.798000</td>\n      <td>0.0223</td>\n      <td>NaN</td>\n      <td>NaN</td>\n      <td>0.0005</td>\n      <td>0.161300</td>\n      <td>0.0007</td>\n      <td>0.161000</td>\n    </tr>\n    <tr>\n      <th>9</th>\n      <td>038441c925bb</td>\n      <td>9</td>\n      <td>3.084700</td>\n      <td>0.0217</td>\n      <td>NaN</td>\n      <td>NaN</td>\n      <td>-0.0006</td>\n      <td>0.286700</td>\n      <td>0.0004</td>\n      <td>0.447900</td>\n    </tr>\n    <tr>\n      <th>10</th>\n      <td>038441c925bb</td>\n      <td>10</td>\n      <td>2.780200</td>\n      <td>0.0229</td>\n      <td>NaN</td>\n      <td>NaN</td>\n      <td>0.0012</td>\n      <td>-0.304500</td>\n      <td>0.0014</td>\n      <td>0.143400</td>\n    </tr>\n    <tr>\n      <th>11</th>\n      <td>038441c925bb</td>\n      <td>11</td>\n      <td>2.520500</td>\n      <td>0.0216</td>\n      <td>NaN</td>\n      <td>NaN</td>\n      <td>-0.0013</td>\n      <td>-0.259700</td>\n      <td>-0.0001</td>\n      <td>-0.116200</td>\n    </tr>\n    <tr>\n      <th>12</th>\n      <td>038441c925bb</td>\n      <td>12</td>\n      <td>2.412900</td>\n      <td>0.0218</td>\n      <td>NaN</td>\n      <td>NaN</td>\n      <td>0.0002</td>\n      <td>-0.107600</td>\n      <td>0.0001</td>\n      <td>-0.223800</td>\n    </tr>\n    <tr>\n      <th>13</th>\n      <td>038441c925bb</td>\n      <td>13</td>\n      <td>2.412900</td>\n      <td>0.0214</td>\n      <td>NaN</td>\n      <td>NaN</td>\n      <td>-0.0004</td>\n      <td>0.000000</td>\n      <td>-0.0004</td>\n      <td>-0.223800</td>\n    </tr>\n    <tr>\n      <th>14</th>\n      <td>038441c925bb</td>\n      <td>14</td>\n      <td>2.412900</td>\n      <td>0.0214</td>\n      <td>NaN</td>\n      <td>NaN</td>\n      <td>0.0000</td>\n      <td>0.000000</td>\n      <td>-0.0009</td>\n      <td>-0.385100</td>\n    </tr>\n    <tr>\n      <th>15</th>\n      <td>038441c925bb</td>\n      <td>15</td>\n      <td>2.412900</td>\n      <td>0.0214</td>\n      <td>NaN</td>\n      <td>NaN</td>\n      <td>0.0000</td>\n      <td>0.000000</td>\n      <td>-0.0003</td>\n      <td>-0.671800</td>\n    </tr>\n    <tr>\n      <th>16</th>\n      <td>038441c925bb</td>\n      <td>16</td>\n      <td>2.412900</td>\n      <td>0.0215</td>\n      <td>NaN</td>\n      <td>NaN</td>\n      <td>0.0001</td>\n      <td>0.000000</td>\n      <td>-0.0014</td>\n      <td>-0.367300</td>\n    </tr>\n    <tr>\n      <th>17</th>\n      <td>038441c925bb</td>\n      <td>17</td>\n      <td>2.413200</td>\n      <td>0.0217</td>\n      <td>NaN</td>\n      <td>NaN</td>\n      <td>0.0002</td>\n      <td>0.000300</td>\n      <td>0.0001</td>\n      <td>-0.107300</td>\n    </tr>\n    <tr>\n      <th>18</th>\n      <td>038441c925bb</td>\n      <td>18</td>\n      <td>49.874401</td>\n      <td>0.0395</td>\n      <td>NaN</td>\n      <td>NaN</td>\n      <td>0.0178</td>\n      <td>47.461201</td>\n      <td>0.0177</td>\n      <td>47.461502</td>\n    </tr>\n    <tr>\n      <th>19</th>\n      <td>038441c925bb</td>\n      <td>19</td>\n      <td>54.849800</td>\n      <td>0.0166</td>\n      <td>NaN</td>\n      <td>NaN</td>\n      <td>-0.0229</td>\n      <td>4.975399</td>\n      <td>-0.0048</td>\n      <td>52.436901</td>\n    </tr>\n    <tr>\n      <th>20</th>\n      <td>038441c925bb</td>\n      <td>20</td>\n      <td>44.099300</td>\n      <td>0.0170</td>\n      <td>NaN</td>\n      <td>NaN</td>\n      <td>0.0004</td>\n      <td>-10.750500</td>\n      <td>-0.0044</td>\n      <td>41.686401</td>\n    </tr>\n    <tr>\n      <th>21</th>\n      <td>038441c925bb</td>\n      <td>21</td>\n      <td>67.381302</td>\n      <td>0.0102</td>\n      <td>NaN</td>\n      <td>NaN</td>\n      <td>-0.0068</td>\n      <td>23.282001</td>\n      <td>-0.0112</td>\n      <td>64.968399</td>\n    </tr>\n    <tr>\n      <th>22</th>\n      <td>038441c925bb</td>\n      <td>22</td>\n      <td>68.460503</td>\n      <td>0.0238</td>\n      <td>NaN</td>\n      <td>NaN</td>\n      <td>0.0136</td>\n      <td>1.079201</td>\n      <td>0.0023</td>\n      <td>66.047600</td>\n    </tr>\n    <tr>\n      <th>23</th>\n      <td>038441c925bb</td>\n      <td>23</td>\n      <td>37.721901</td>\n      <td>0.0070</td>\n      <td>NaN</td>\n      <td>NaN</td>\n      <td>-0.0168</td>\n      <td>-30.738602</td>\n      <td>-0.0147</td>\n      <td>35.308701</td>\n    </tr>\n    <tr>\n      <th>24</th>\n      <td>038441c925bb</td>\n      <td>24</td>\n      <td>30.002501</td>\n      <td>0.0082</td>\n      <td>NaN</td>\n      <td>NaN</td>\n      <td>0.0012</td>\n      <td>-7.719400</td>\n      <td>-0.0313</td>\n      <td>-19.871901</td>\n    </tr>\n  </tbody>\n</table>\n</div>"
     },
     "execution_count": 113,
     "metadata": {},
     "output_type": "execute_result"
    }
   ],
   "source": [
    "merged_data[['d1_enmo', 'd1_anglez']] = merged_data[['enmo', 'anglez']] - merged_data[['enmo', 'anglez']].shift(1)\n",
    "merged_data[['d6_enmo', 'd6_anglez']] = merged_data[['enmo', 'anglez']] - merged_data[['enmo', 'anglez']].shift(6)\n",
    "merged_data.head(25)"
   ],
   "metadata": {
    "collapsed": false
   }
  },
  {
   "cell_type": "code",
   "execution_count": 115,
   "outputs": [
    {
     "data": {
      "text/plain": "       series_id  step     anglez    enmo  night event  d1_enmo  d1_anglez  \\\n6   038441c925bb     6   2.636700  0.0217    NaN   NaN   0.0000   0.000000   \n7   038441c925bb     7   2.636700  0.0218    NaN   NaN   0.0001   0.000000   \n8   038441c925bb     8   2.798000  0.0223    NaN   NaN   0.0005   0.161300   \n9   038441c925bb     9   3.084700  0.0217    NaN   NaN  -0.0006   0.286700   \n10  038441c925bb    10   2.780200  0.0229    NaN   NaN   0.0012  -0.304500   \n11  038441c925bb    11   2.520500  0.0216    NaN   NaN  -0.0013  -0.259700   \n12  038441c925bb    12   2.412900  0.0218    NaN   NaN   0.0002  -0.107600   \n13  038441c925bb    13   2.412900  0.0214    NaN   NaN  -0.0004   0.000000   \n14  038441c925bb    14   2.412900  0.0214    NaN   NaN   0.0000   0.000000   \n15  038441c925bb    15   2.412900  0.0214    NaN   NaN   0.0000   0.000000   \n16  038441c925bb    16   2.412900  0.0215    NaN   NaN   0.0001   0.000000   \n17  038441c925bb    17   2.413200  0.0217    NaN   NaN   0.0002   0.000300   \n18  038441c925bb    18  49.874401  0.0395    NaN   NaN   0.0178  47.461201   \n19  038441c925bb    19  54.849800  0.0166    NaN   NaN  -0.0229   4.975399   \n20  038441c925bb    20  44.099300  0.0170    NaN   NaN   0.0004 -10.750500   \n21  038441c925bb    21  67.381302  0.0102    NaN   NaN  -0.0068  23.282001   \n22  038441c925bb    22  68.460503  0.0238    NaN   NaN   0.0136   1.079201   \n23  038441c925bb    23  37.721901  0.0070    NaN   NaN  -0.0168 -30.738602   \n24  038441c925bb    24  30.002501  0.0082    NaN   NaN   0.0012  -7.719400   \n25  038441c925bb    25  27.867901  0.0119    NaN   NaN   0.0037  -2.134600   \n26  038441c925bb    26  28.585600  0.0115    NaN   NaN  -0.0004   0.717699   \n27  038441c925bb    27  -6.606900  0.0691    NaN   NaN   0.0576 -35.192501   \n28  038441c925bb    28 -79.970398  0.0132    NaN   NaN  -0.0559 -73.363495   \n29  038441c925bb    29 -79.988297  0.0136    NaN   NaN   0.0004  -0.017899   \n30  038441c925bb    30 -79.998703  0.0134    NaN   NaN  -0.0002  -0.010406   \n\n    d6_enmo   d6_anglez  \n6    0.0000    0.000000  \n7    0.0003   -0.000100  \n8    0.0007    0.161000  \n9    0.0004    0.447900  \n10   0.0014    0.143400  \n11  -0.0001   -0.116200  \n12   0.0001   -0.223800  \n13  -0.0004   -0.223800  \n14  -0.0009   -0.385100  \n15  -0.0003   -0.671800  \n16  -0.0014   -0.367300  \n17   0.0001   -0.107300  \n18   0.0177   47.461502  \n19  -0.0048   52.436901  \n20  -0.0044   41.686401  \n21  -0.0112   64.968399  \n22   0.0023   66.047600  \n23  -0.0147   35.308701  \n24  -0.0313  -19.871901  \n25  -0.0047  -26.981899  \n26  -0.0055  -15.513700  \n27   0.0589  -73.988205  \n28  -0.0106 -148.430908  \n29   0.0066 -117.710197  \n30   0.0052 -110.001205  ",
      "text/html": "<div>\n<style scoped>\n    .dataframe tbody tr th:only-of-type {\n        vertical-align: middle;\n    }\n\n    .dataframe tbody tr th {\n        vertical-align: top;\n    }\n\n    .dataframe thead th {\n        text-align: right;\n    }\n</style>\n<table border=\"1\" class=\"dataframe\">\n  <thead>\n    <tr style=\"text-align: right;\">\n      <th></th>\n      <th>series_id</th>\n      <th>step</th>\n      <th>anglez</th>\n      <th>enmo</th>\n      <th>night</th>\n      <th>event</th>\n      <th>d1_enmo</th>\n      <th>d1_anglez</th>\n      <th>d6_enmo</th>\n      <th>d6_anglez</th>\n    </tr>\n  </thead>\n  <tbody>\n    <tr>\n      <th>6</th>\n      <td>038441c925bb</td>\n      <td>6</td>\n      <td>2.636700</td>\n      <td>0.0217</td>\n      <td>NaN</td>\n      <td>NaN</td>\n      <td>0.0000</td>\n      <td>0.000000</td>\n      <td>0.0000</td>\n      <td>0.000000</td>\n    </tr>\n    <tr>\n      <th>7</th>\n      <td>038441c925bb</td>\n      <td>7</td>\n      <td>2.636700</td>\n      <td>0.0218</td>\n      <td>NaN</td>\n      <td>NaN</td>\n      <td>0.0001</td>\n      <td>0.000000</td>\n      <td>0.0003</td>\n      <td>-0.000100</td>\n    </tr>\n    <tr>\n      <th>8</th>\n      <td>038441c925bb</td>\n      <td>8</td>\n      <td>2.798000</td>\n      <td>0.0223</td>\n      <td>NaN</td>\n      <td>NaN</td>\n      <td>0.0005</td>\n      <td>0.161300</td>\n      <td>0.0007</td>\n      <td>0.161000</td>\n    </tr>\n    <tr>\n      <th>9</th>\n      <td>038441c925bb</td>\n      <td>9</td>\n      <td>3.084700</td>\n      <td>0.0217</td>\n      <td>NaN</td>\n      <td>NaN</td>\n      <td>-0.0006</td>\n      <td>0.286700</td>\n      <td>0.0004</td>\n      <td>0.447900</td>\n    </tr>\n    <tr>\n      <th>10</th>\n      <td>038441c925bb</td>\n      <td>10</td>\n      <td>2.780200</td>\n      <td>0.0229</td>\n      <td>NaN</td>\n      <td>NaN</td>\n      <td>0.0012</td>\n      <td>-0.304500</td>\n      <td>0.0014</td>\n      <td>0.143400</td>\n    </tr>\n    <tr>\n      <th>11</th>\n      <td>038441c925bb</td>\n      <td>11</td>\n      <td>2.520500</td>\n      <td>0.0216</td>\n      <td>NaN</td>\n      <td>NaN</td>\n      <td>-0.0013</td>\n      <td>-0.259700</td>\n      <td>-0.0001</td>\n      <td>-0.116200</td>\n    </tr>\n    <tr>\n      <th>12</th>\n      <td>038441c925bb</td>\n      <td>12</td>\n      <td>2.412900</td>\n      <td>0.0218</td>\n      <td>NaN</td>\n      <td>NaN</td>\n      <td>0.0002</td>\n      <td>-0.107600</td>\n      <td>0.0001</td>\n      <td>-0.223800</td>\n    </tr>\n    <tr>\n      <th>13</th>\n      <td>038441c925bb</td>\n      <td>13</td>\n      <td>2.412900</td>\n      <td>0.0214</td>\n      <td>NaN</td>\n      <td>NaN</td>\n      <td>-0.0004</td>\n      <td>0.000000</td>\n      <td>-0.0004</td>\n      <td>-0.223800</td>\n    </tr>\n    <tr>\n      <th>14</th>\n      <td>038441c925bb</td>\n      <td>14</td>\n      <td>2.412900</td>\n      <td>0.0214</td>\n      <td>NaN</td>\n      <td>NaN</td>\n      <td>0.0000</td>\n      <td>0.000000</td>\n      <td>-0.0009</td>\n      <td>-0.385100</td>\n    </tr>\n    <tr>\n      <th>15</th>\n      <td>038441c925bb</td>\n      <td>15</td>\n      <td>2.412900</td>\n      <td>0.0214</td>\n      <td>NaN</td>\n      <td>NaN</td>\n      <td>0.0000</td>\n      <td>0.000000</td>\n      <td>-0.0003</td>\n      <td>-0.671800</td>\n    </tr>\n    <tr>\n      <th>16</th>\n      <td>038441c925bb</td>\n      <td>16</td>\n      <td>2.412900</td>\n      <td>0.0215</td>\n      <td>NaN</td>\n      <td>NaN</td>\n      <td>0.0001</td>\n      <td>0.000000</td>\n      <td>-0.0014</td>\n      <td>-0.367300</td>\n    </tr>\n    <tr>\n      <th>17</th>\n      <td>038441c925bb</td>\n      <td>17</td>\n      <td>2.413200</td>\n      <td>0.0217</td>\n      <td>NaN</td>\n      <td>NaN</td>\n      <td>0.0002</td>\n      <td>0.000300</td>\n      <td>0.0001</td>\n      <td>-0.107300</td>\n    </tr>\n    <tr>\n      <th>18</th>\n      <td>038441c925bb</td>\n      <td>18</td>\n      <td>49.874401</td>\n      <td>0.0395</td>\n      <td>NaN</td>\n      <td>NaN</td>\n      <td>0.0178</td>\n      <td>47.461201</td>\n      <td>0.0177</td>\n      <td>47.461502</td>\n    </tr>\n    <tr>\n      <th>19</th>\n      <td>038441c925bb</td>\n      <td>19</td>\n      <td>54.849800</td>\n      <td>0.0166</td>\n      <td>NaN</td>\n      <td>NaN</td>\n      <td>-0.0229</td>\n      <td>4.975399</td>\n      <td>-0.0048</td>\n      <td>52.436901</td>\n    </tr>\n    <tr>\n      <th>20</th>\n      <td>038441c925bb</td>\n      <td>20</td>\n      <td>44.099300</td>\n      <td>0.0170</td>\n      <td>NaN</td>\n      <td>NaN</td>\n      <td>0.0004</td>\n      <td>-10.750500</td>\n      <td>-0.0044</td>\n      <td>41.686401</td>\n    </tr>\n    <tr>\n      <th>21</th>\n      <td>038441c925bb</td>\n      <td>21</td>\n      <td>67.381302</td>\n      <td>0.0102</td>\n      <td>NaN</td>\n      <td>NaN</td>\n      <td>-0.0068</td>\n      <td>23.282001</td>\n      <td>-0.0112</td>\n      <td>64.968399</td>\n    </tr>\n    <tr>\n      <th>22</th>\n      <td>038441c925bb</td>\n      <td>22</td>\n      <td>68.460503</td>\n      <td>0.0238</td>\n      <td>NaN</td>\n      <td>NaN</td>\n      <td>0.0136</td>\n      <td>1.079201</td>\n      <td>0.0023</td>\n      <td>66.047600</td>\n    </tr>\n    <tr>\n      <th>23</th>\n      <td>038441c925bb</td>\n      <td>23</td>\n      <td>37.721901</td>\n      <td>0.0070</td>\n      <td>NaN</td>\n      <td>NaN</td>\n      <td>-0.0168</td>\n      <td>-30.738602</td>\n      <td>-0.0147</td>\n      <td>35.308701</td>\n    </tr>\n    <tr>\n      <th>24</th>\n      <td>038441c925bb</td>\n      <td>24</td>\n      <td>30.002501</td>\n      <td>0.0082</td>\n      <td>NaN</td>\n      <td>NaN</td>\n      <td>0.0012</td>\n      <td>-7.719400</td>\n      <td>-0.0313</td>\n      <td>-19.871901</td>\n    </tr>\n    <tr>\n      <th>25</th>\n      <td>038441c925bb</td>\n      <td>25</td>\n      <td>27.867901</td>\n      <td>0.0119</td>\n      <td>NaN</td>\n      <td>NaN</td>\n      <td>0.0037</td>\n      <td>-2.134600</td>\n      <td>-0.0047</td>\n      <td>-26.981899</td>\n    </tr>\n    <tr>\n      <th>26</th>\n      <td>038441c925bb</td>\n      <td>26</td>\n      <td>28.585600</td>\n      <td>0.0115</td>\n      <td>NaN</td>\n      <td>NaN</td>\n      <td>-0.0004</td>\n      <td>0.717699</td>\n      <td>-0.0055</td>\n      <td>-15.513700</td>\n    </tr>\n    <tr>\n      <th>27</th>\n      <td>038441c925bb</td>\n      <td>27</td>\n      <td>-6.606900</td>\n      <td>0.0691</td>\n      <td>NaN</td>\n      <td>NaN</td>\n      <td>0.0576</td>\n      <td>-35.192501</td>\n      <td>0.0589</td>\n      <td>-73.988205</td>\n    </tr>\n    <tr>\n      <th>28</th>\n      <td>038441c925bb</td>\n      <td>28</td>\n      <td>-79.970398</td>\n      <td>0.0132</td>\n      <td>NaN</td>\n      <td>NaN</td>\n      <td>-0.0559</td>\n      <td>-73.363495</td>\n      <td>-0.0106</td>\n      <td>-148.430908</td>\n    </tr>\n    <tr>\n      <th>29</th>\n      <td>038441c925bb</td>\n      <td>29</td>\n      <td>-79.988297</td>\n      <td>0.0136</td>\n      <td>NaN</td>\n      <td>NaN</td>\n      <td>0.0004</td>\n      <td>-0.017899</td>\n      <td>0.0066</td>\n      <td>-117.710197</td>\n    </tr>\n    <tr>\n      <th>30</th>\n      <td>038441c925bb</td>\n      <td>30</td>\n      <td>-79.998703</td>\n      <td>0.0134</td>\n      <td>NaN</td>\n      <td>NaN</td>\n      <td>-0.0002</td>\n      <td>-0.010406</td>\n      <td>0.0052</td>\n      <td>-110.001205</td>\n    </tr>\n  </tbody>\n</table>\n</div>"
     },
     "execution_count": 115,
     "metadata": {},
     "output_type": "execute_result"
    }
   ],
   "source": [
    "merged_data.tail(25)\n",
    "merged_data.dropna(subset='d6_enmo', inplace=True)\n",
    "merged_data.reset_index(inplace=True, drop=True)\n",
    "merged_data.head(25)"
   ],
   "metadata": {
    "collapsed": false
   }
  },
  {
   "cell_type": "code",
   "execution_count": 118,
   "outputs": [],
   "source": [
    "# finding the rows that need to be deleted\n",
    "last_id = merged_data.iloc[0]['series_id']\n",
    "last_night = 0\n",
    "last_wakeup_index = 0\n",
    "rows_to_delete = []\n",
    "for index, row in merged_data.head(200000).iterrows():\n",
    "\n",
    "    if row['event'] == 'onset':\n",
    "        if row['night'] - last_night != 1 or row['series_id'] != last_id:\n",
    "            rows_to_delete.append((last_wakeup_index, index))\n",
    "            if row['series_id'] != last_id:\n",
    "                last_id = row['series_id']\n",
    "                last_night = row['night']\n",
    "        else:\n",
    "            last_night = row['night']\n",
    "    if row['event'] == 'wakeup':\n",
    "        last_wakeup_index = index\n"
   ],
   "metadata": {
    "collapsed": false
   }
  },
  {
   "cell_type": "code",
   "execution_count": 119,
   "outputs": [
    {
     "name": "stdout",
     "output_type": "stream",
     "text": [
      "[(62856, 91296), (97860, 109500), (118524, 127296), (133332, 159972), (167400, 177036), (180804, 194220)]\n"
     ]
    }
   ],
   "source": [
    "print(rows_to_delete)"
   ],
   "metadata": {
    "collapsed": false
   }
  },
  {
   "cell_type": "code",
   "execution_count": null,
   "outputs": [],
   "source": [
    "# Delete the 'night' row\n",
    "merged_data.drop(columns='night', inplace=True)"
   ],
   "metadata": {
    "collapsed": false
   }
  },
  {
   "cell_type": "code",
   "execution_count": null,
   "outputs": [],
   "source": [
    "# Deleting the rows\n",
    "# 3 hour buffer\n",
    "# buffer = 12*180\n",
    "# for tuple in\n",
    "# merged_data.loc[start_index + buffer:end_index - buffer , 'column_name'] = new_value"
   ],
   "metadata": {
    "collapsed": false
   }
  },
  {
   "cell_type": "code",
   "execution_count": 100,
   "outputs": [
    {
     "name": "stdout",
     "output_type": "stream",
     "text": [
      "sleep\n"
     ]
    }
   ],
   "source": [
    "for wakeup, onset in rows_to_delete:\n",
    "    merged_data.at[wakeup+1, 'event'] = 'woke'\n",
    "    merged_data.at[onset+1, 'event'] = 'sleep'\n",
    "print(merged_data.at[rows_to_delete[0][1] + 1, 'event'])"
   ],
   "metadata": {
    "collapsed": false
   }
  },
  {
   "cell_type": "code",
   "execution_count": null,
   "outputs": [],
   "source": [],
   "metadata": {
    "collapsed": false
   }
  }
 ],
 "metadata": {
  "kernelspec": {
   "display_name": "Python 3 (ipykernel)",
   "language": "python",
   "name": "python3"
  },
  "language_info": {
   "codemirror_mode": {
    "name": "ipython",
    "version": 3
   },
   "file_extension": ".py",
   "mimetype": "text/x-python",
   "name": "python",
   "nbconvert_exporter": "python",
   "pygments_lexer": "ipython3",
   "version": "3.9.12"
  }
 },
 "nbformat": 4,
 "nbformat_minor": 5
}
