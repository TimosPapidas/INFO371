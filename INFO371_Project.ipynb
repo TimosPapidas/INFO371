{
 "cells": [
  {
   "cell_type": "code",
   "execution_count": 1,
   "id": "5568d838",
   "metadata": {},
   "outputs": [],
   "source": [
    "#This is our INFO-371 project"
   ]
  },
  {
   "cell_type": "code",
   "execution_count": 4,
   "id": "317748af",
   "metadata": {},
   "outputs": [],
   "source": [
    "#Imports\n",
    "import os\n",
    "import pandas as pd\n",
    "import pathlib\n",
    "import pyarrow as pa"
   ]
  },
  {
   "cell_type": "code",
   "execution_count": 18,
   "outputs": [],
   "source": [
    "input_data_dir = os.path.join(os.path.realpath(pathlib.Path().cwd()), \"input_data\")\n",
    "train_series = pd.read_parquet(os.path.join(input_data_dir, \"train_series.parquet\"))\n",
    "train_events = pd.read_csv(os.path.join(input_data_dir, \"train_events.csv\"))"
   ],
   "metadata": {
    "collapsed": false
   }
  },
  {
   "cell_type": "code",
   "execution_count": null,
   "outputs": [],
   "source": [],
   "metadata": {
    "collapsed": false
   }
  }
 ],
 "metadata": {
  "kernelspec": {
   "display_name": "Python 3 (ipykernel)",
   "language": "python",
   "name": "python3"
  },
  "language_info": {
   "codemirror_mode": {
    "name": "ipython",
    "version": 3
   },
   "file_extension": ".py",
   "mimetype": "text/x-python",
   "name": "python",
   "nbconvert_exporter": "python",
   "pygments_lexer": "ipython3",
   "version": "3.9.12"
  }
 },
 "nbformat": 4,
 "nbformat_minor": 5
}
